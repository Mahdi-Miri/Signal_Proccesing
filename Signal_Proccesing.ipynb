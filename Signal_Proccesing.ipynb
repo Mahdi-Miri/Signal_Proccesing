{
  "nbformat": 4,
  "nbformat_minor": 0,
  "metadata": {
    "colab": {
      "provenance": [],
      "authorship_tag": "ABX9TyMI+q/NiCpxEiflTvbAVdbN",
      "include_colab_link": true
    },
    "kernelspec": {
      "name": "python3",
      "display_name": "Python 3"
    },
    "language_info": {
      "name": "python"
    }
  },
  "cells": [
    {
      "cell_type": "markdown",
      "metadata": {
        "id": "view-in-github",
        "colab_type": "text"
      },
      "source": [
        "<a href=\"https://colab.research.google.com/github/Mahdi-Miri/Signal_Proccesing/blob/main/Signal_Proccesing.ipynb\" target=\"_parent\"><img src=\"https://colab.research.google.com/assets/colab-badge.svg\" alt=\"Open In Colab\"/></a>"
      ]
    },
    {
      "cell_type": "markdown",
      "source": [
        "##Correlations"
      ],
      "metadata": {
        "id": "hjyRKMcE-jsa"
      }
    },
    {
      "cell_type": "markdown",
      "source": [
        "###Auto-Correlation"
      ],
      "metadata": {
        "id": "FJCszvgd-oA-"
      }
    },
    {
      "cell_type": "code",
      "source": [],
      "metadata": {
        "id": "_ae_V86qte8U"
      },
      "execution_count": null,
      "outputs": []
    },
    {
      "cell_type": "markdown",
      "source": [
        "###Cross-Correlation\n"
      ],
      "metadata": {
        "id": "FtIX6oVi-vbY"
      }
    },
    {
      "cell_type": "code",
      "source": [],
      "metadata": {
        "id": "DYYm5smN-zJw"
      },
      "execution_count": null,
      "outputs": []
    }
  ]
}