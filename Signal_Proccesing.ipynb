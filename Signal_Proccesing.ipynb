{
  "nbformat": 4,
  "nbformat_minor": 0,
  "metadata": {
    "colab": {
      "provenance": [],
      "gpuType": "T4",
      "mount_file_id": "https://github.com/Mahdi-Miri/Signal_Proccesing-/blob/main/Signal_Proccesing.ipynb",
      "authorship_tag": "ABX9TyNuifwguDZd3nbwu+2gLm4N",
      "include_colab_link": true
    },
    "kernelspec": {
      "name": "python3",
      "display_name": "Python 3"
    },
    "language_info": {
      "name": "python"
    },
    "accelerator": "GPU"
  },
  "cells": [
    {
      "cell_type": "markdown",
      "metadata": {
        "id": "view-in-github",
        "colab_type": "text"
      },
      "source": [
        "<a href=\"https://colab.research.google.com/github/Mahdi-Miri/Signal_Proccesing/blob/main/Signal_Proccesing.ipynb\" target=\"_parent\"><img src=\"https://colab.research.google.com/assets/colab-badge.svg\" alt=\"Open In Colab\"/></a>"
      ]
    },
    {
      "cell_type": "markdown",
      "source": [
        "##Data Readig"
      ],
      "metadata": {
        "id": "FTuvlrstUHeC"
      }
    },
    {
      "cell_type": "code",
      "metadata": {
        "colab": {
          "base_uri": "https://localhost:8080/",
          "height": 814
        },
        "id": "ec8fe35a",
        "outputId": "45c13d3d-9964-4e9b-dbc6-725994046e75"
      },
      "source": [
        "!pip install obspy"
      ],
      "execution_count": 1,
      "outputs": [
        {
          "output_type": "stream",
          "name": "stdout",
          "text": [
            "Collecting obspy\n",
            "  Downloading obspy-1.4.2-cp312-cp312-manylinux_2_17_x86_64.manylinux2014_x86_64.whl.metadata (3.9 kB)\n",
            "Requirement already satisfied: numpy>=1.20 in /usr/local/lib/python3.12/dist-packages (from obspy) (2.0.2)\n",
            "Requirement already satisfied: scipy>=1.7 in /usr/local/lib/python3.12/dist-packages (from obspy) (1.16.2)\n",
            "Requirement already satisfied: matplotlib>=3.3 in /usr/local/lib/python3.12/dist-packages (from obspy) (3.10.0)\n",
            "Requirement already satisfied: lxml in /usr/local/lib/python3.12/dist-packages (from obspy) (5.4.0)\n",
            "Requirement already satisfied: setuptools in /usr/local/lib/python3.12/dist-packages (from obspy) (75.2.0)\n",
            "Collecting sqlalchemy<2 (from obspy)\n",
            "  Downloading SQLAlchemy-1.4.54-cp312-cp312-manylinux_2_5_x86_64.manylinux1_x86_64.manylinux_2_17_x86_64.manylinux2014_x86_64.whl.metadata (10 kB)\n",
            "Requirement already satisfied: decorator in /usr/local/lib/python3.12/dist-packages (from obspy) (4.4.2)\n",
            "Requirement already satisfied: requests in /usr/local/lib/python3.12/dist-packages (from obspy) (2.32.4)\n",
            "Requirement already satisfied: contourpy>=1.0.1 in /usr/local/lib/python3.12/dist-packages (from matplotlib>=3.3->obspy) (1.3.3)\n",
            "Requirement already satisfied: cycler>=0.10 in /usr/local/lib/python3.12/dist-packages (from matplotlib>=3.3->obspy) (0.12.1)\n",
            "Requirement already satisfied: fonttools>=4.22.0 in /usr/local/lib/python3.12/dist-packages (from matplotlib>=3.3->obspy) (4.60.1)\n",
            "Requirement already satisfied: kiwisolver>=1.3.1 in /usr/local/lib/python3.12/dist-packages (from matplotlib>=3.3->obspy) (1.4.9)\n",
            "Requirement already satisfied: packaging>=20.0 in /usr/local/lib/python3.12/dist-packages (from matplotlib>=3.3->obspy) (25.0)\n",
            "Requirement already satisfied: pillow>=8 in /usr/local/lib/python3.12/dist-packages (from matplotlib>=3.3->obspy) (11.3.0)\n",
            "Requirement already satisfied: pyparsing>=2.3.1 in /usr/local/lib/python3.12/dist-packages (from matplotlib>=3.3->obspy) (3.2.5)\n",
            "Requirement already satisfied: python-dateutil>=2.7 in /usr/local/lib/python3.12/dist-packages (from matplotlib>=3.3->obspy) (2.9.0.post0)\n",
            "Requirement already satisfied: greenlet!=0.4.17 in /usr/local/lib/python3.12/dist-packages (from sqlalchemy<2->obspy) (3.2.4)\n",
            "Requirement already satisfied: charset_normalizer<4,>=2 in /usr/local/lib/python3.12/dist-packages (from requests->obspy) (3.4.3)\n",
            "Requirement already satisfied: idna<4,>=2.5 in /usr/local/lib/python3.12/dist-packages (from requests->obspy) (3.10)\n",
            "Requirement already satisfied: urllib3<3,>=1.21.1 in /usr/local/lib/python3.12/dist-packages (from requests->obspy) (2.5.0)\n",
            "Requirement already satisfied: certifi>=2017.4.17 in /usr/local/lib/python3.12/dist-packages (from requests->obspy) (2025.10.5)\n",
            "Requirement already satisfied: six>=1.5 in /usr/local/lib/python3.12/dist-packages (from python-dateutil>=2.7->matplotlib>=3.3->obspy) (1.17.0)\n",
            "Downloading obspy-1.4.2-cp312-cp312-manylinux_2_17_x86_64.manylinux2014_x86_64.whl (14.5 MB)\n",
            "\u001b[2K   \u001b[90m━━━━━━━━━━━━━━━━━━━━━━━━━━━━━━━━━━━━━━━━\u001b[0m \u001b[32m14.5/14.5 MB\u001b[0m \u001b[31m68.4 MB/s\u001b[0m eta \u001b[36m0:00:00\u001b[0m\n",
            "\u001b[?25hDownloading SQLAlchemy-1.4.54-cp312-cp312-manylinux_2_5_x86_64.manylinux1_x86_64.manylinux_2_17_x86_64.manylinux2014_x86_64.whl (1.6 MB)\n",
            "\u001b[2K   \u001b[90m━━━━━━━━━━━━━━━━━━━━━━━━━━━━━━━━━━━━━━━━\u001b[0m \u001b[32m1.6/1.6 MB\u001b[0m \u001b[31m68.9 MB/s\u001b[0m eta \u001b[36m0:00:00\u001b[0m\n",
            "\u001b[?25hInstalling collected packages: sqlalchemy, obspy\n",
            "  Attempting uninstall: sqlalchemy\n",
            "    Found existing installation: SQLAlchemy 2.0.43\n",
            "    Uninstalling SQLAlchemy-2.0.43:\n",
            "      Successfully uninstalled SQLAlchemy-2.0.43\n",
            "\u001b[31mERROR: pip's dependency resolver does not currently take into account all the packages that are installed. This behaviour is the source of the following dependency conflicts.\n",
            "ipython-sql 0.5.0 requires sqlalchemy>=2.0, but you have sqlalchemy 1.4.54 which is incompatible.\n",
            "google-adk 1.14.1 requires sqlalchemy<3.0.0,>=2.0, but you have sqlalchemy 1.4.54 which is incompatible.\u001b[0m\u001b[31m\n",
            "\u001b[0mSuccessfully installed obspy-1.4.2 sqlalchemy-1.4.54\n"
          ]
        },
        {
          "output_type": "display_data",
          "data": {
            "application/vnd.colab-display-data+json": {
              "pip_warning": {
                "packages": [
                  "signal"
                ]
              },
              "id": "190d49ac4d3a4a0ba1aa501bd9677cdc"
            }
          },
          "metadata": {}
        }
      ]
    },
    {
      "cell_type": "markdown",
      "source": [
        "##Modelling"
      ],
      "metadata": {
        "id": "3yqHTrHlNELT"
      }
    },
    {
      "cell_type": "code",
      "source": [
        "import tensorflow as tf\n",
        "from tensorflow.keras.layers import (\n",
        "    Input, Conv2D, BatchNormalization, ReLU, MaxPooling2D,\n",
        "    GlobalAveragePooling2D, TimeDistributed, Dense, Permute, Reshape, Layer\n",
        ")\n",
        "from tensorflow.keras.models import Model\n",
        "import numpy as np"
      ],
      "metadata": {
        "id": "xw-UFeFjNI11"
      },
      "execution_count": 2,
      "outputs": []
    },
    {
      "cell_type": "code",
      "source": [
        "# --- Custom Layer Definition with Functional Implementation ---\n",
        "# This layer now has a functional implementation based on the\n",
        "# Auto-Correlation mechanism using Fast Fourier Transform (FFT).\n",
        "class CustomAutocorrelationLayer(Layer):\n",
        "    \"\"\"\n",
        "    A custom layer that calculates the temporal auto-correlation of an input tensor.\n",
        "    It operates on the last axis, which is assumed to be the time dimension.\n",
        "    The calculation is performed efficiently in the frequency domain using FFT.\n",
        "    \"\"\"\n",
        "    def __init__(self, **kwargs):\n",
        "        super(CustomAutocorrelationLayer, self).__init__(**kwargs)\n",
        "\n",
        "    def call(self, inputs):\n",
        "        # The input shape is expected to be (Batch, Height, Width, TimeSteps)\n",
        "        # We need to compute auto-correlation along the TimeSteps axis (axis=-1).\n",
        "\n",
        "        # Get the length of the time series\n",
        "        sequence_length = tf.shape(inputs)[-1]\n",
        "\n",
        "        # --- Step 1: Go to Frequency Domain using FFT ---\n",
        "        # Perform Fast Fourier Transform. tf.signal.rfft is used for real-valued inputs.\n",
        "        # The length of the FFT is padded to the next power of 2 for efficiency,\n",
        "        # but for simplicity, we'll use the original length here.\n",
        "        fft_result = tf.signal.rfft(inputs, fft_length=[sequence_length])\n",
        "\n",
        "        # --- Step 2: Compute Power Spectral Density ---\n",
        "        # This is where the correlation is calculated.\n",
        "        # It's done by multiplying the FFT result by its complex conjugate.\n",
        "        # This is equivalent to convolution in the time domain.\n",
        "        power_spectral_density = fft_result * tf.math.conj(fft_result)\n",
        "\n",
        "        # --- Step 3: Go back to Time Domain using Inverse FFT ---\n",
        "        # Perform Inverse Real Fast Fourier Transform to get the auto-correlation series.\n",
        "        autocorr_result = tf.signal.irfft(power_spectral_density, fft_length=[sequence_length])\n",
        "\n",
        "        return autocorr_result\n",
        "\n",
        "    def get_config(self):\n",
        "        # Required for model saving and loading\n",
        "        config = super(CustomAutocorrelationLayer, self).get_config()\n",
        "        return config\n",
        "\n",
        "# --- Full Architecture Definition ---\n",
        "def build_spatio_temporal_model(input_shape=(60, 60, 100)):\n",
        "    \"\"\"\n",
        "    Builds the complete Spatio-Temporal feature extraction model based on the diagram.\n",
        "\n",
        "    Args:\n",
        "        input_shape (tuple): The shape of the input data (Height, Width, TimeSteps).\n",
        "\n",
        "    Returns:\n",
        "        keras.Model: The compiled Keras model.\n",
        "    \"\"\"\n",
        "    # Define the input layer for our spatio-temporal data\n",
        "    inputs = Input(shape=input_shape)\n",
        "\n",
        "    # --- Part 1: Temporal Transformation & Reshaping ---\n",
        "\n",
        "    # Apply the functional autocorrelation layer to find temporal patterns.\n",
        "    # This layer processes each spatial point's time series (60x60 series of length 100).\n",
        "    # Output values now represent the strength of temporal correlations.\n",
        "    temporal_features = CustomAutocorrelationLayer(name = 'mamad')(inputs)  # Shape: (None, 60, 60, 100)\n",
        "\n",
        "    # Permute the dimensions to bring the time-steps to the front for the next stage.\n",
        "    # (Height, Width, TimeSteps) -> (TimeSteps, Height, Width)\n",
        "    permuted = Permute((3, 1, 2))(temporal_features)  # Shape: (None, 100, 60, 60)\n",
        "\n",
        "    # Reshape to add a 'channels' dimension. Each time-step is now a 60x60x1 image,\n",
        "    # ready to be processed by a 2D CNN.\n",
        "    reshaped = Reshape((100, 60, 60, 1))(permuted)  # Shape: (None, 100, 60, 60, 1)\n",
        "\n",
        "    # --- Part 2: Time-Distributed Spatial Feature Extraction ---\n",
        "\n",
        "    # Define the CNN block that extracts spatial features from a single 60x60 frame.\n",
        "    cnn_block = tf.keras.Sequential([\n",
        "        # Finds low-level features like edges and gradients.\n",
        "        Conv2D(32, kernel_size=(3, 3), padding='same'),\n",
        "        BatchNormalization(),\n",
        "        ReLU(),\n",
        "        # Downsamples the feature map to make representations more robust.\n",
        "        MaxPooling2D(pool_size=(2, 2)),\n",
        "\n",
        "        # Finds higher-level features by combining low-level ones.\n",
        "        Conv2D(64, kernel_size=(3, 3), padding='same'),\n",
        "        BatchNormalization(),\n",
        "        ReLU(),\n",
        "        MaxPooling2D(pool_size=(2, 2)),\n",
        "\n",
        "        # Summarizes all spatial features in the frame into a single, fixed-size vector.\n",
        "        GlobalAveragePooling2D()\n",
        "    ], name='internal_cnn_block')\n",
        "\n",
        "    # Apply the defined cnn_block to each of the 100 time-steps independently.\n",
        "    # The output is a sequence of 100 feature vectors, one for each time-step.\n",
        "    time_distributed_cnn = TimeDistributed(cnn_block)(reshaped)  # Shape: (None, 100, 64)\n",
        "\n",
        "    # --- Part 3: Final Transformation ---\n",
        "\n",
        "    # A Dense layer refines the features from the CNN, reducing each feature vector's size to 10.\n",
        "    # It learns combinations of the spatial features.\n",
        "    dense_features = Dense(10, activation='relu')(time_distributed_cnn)  # Shape: (None, 100, 10)\n",
        "\n",
        "    # Final permutation to get the output shape of (Features, TimeSteps).\n",
        "    # This format might be useful for downstream tasks that analyze each feature over time.\n",
        "    final_output = Permute((2, 1))(dense_features)  # Shape: (None, 10, 100)\n",
        "\n",
        "    # Create the final model by defining its inputs and outputs\n",
        "    model = Model(inputs=inputs, outputs=final_output, name='SpatioTemporal_Feature_Extractor')\n",
        "\n",
        "    return model\n",
        "\n",
        "# --- Model Creation, Compilation, and Execution Example ---\n",
        "\n",
        "if __name__ == '__main__':\n",
        "    # Define the input shape as per the diagram\n",
        "    INPUT_SHAPE = (60, 60, 100)\n",
        "\n",
        "    # Build the model\n",
        "    model = build_spatio_temporal_model(input_shape=INPUT_SHAPE)\n",
        "\n",
        "    # Compile the model. A loss function and optimizer are needed for training.\n",
        "    # For feature extraction, you might not train it, but compilation is a good practice.\n",
        "    model.compile(optimizer='adam', loss='mse')\n",
        "\n",
        "    # Print the model summary to verify the architecture and shapes\n",
        "    print(\"--- Model Summary ---\")\n",
        "    model.summary()\n",
        "\n",
        "    # --- Example of running the model with dummy data ---\n",
        "    print(\"\\n--- Running a test prediction ---\")\n",
        "    # Create a batch of 2 dummy \"videos\" with random data\n",
        "    dummy_data = np.random.rand(2, *INPUT_SHAPE)\n",
        "\n",
        "    # Get the model's prediction\n",
        "    predictions = model.predict(dummy_data)\n",
        "\n",
        "    # Print the shape of the output to confirm it matches the design\n",
        "    print(f\"Input data shape: {dummy_data.shape}\")\n",
        "    print(f\"Final output shape: {predictions.shape}\")\n"
      ],
      "metadata": {
        "id": "o0hhgiZvNFMF",
        "outputId": "c0e7e3ef-98c0-4bbc-aa90-ae8a63bd5010",
        "colab": {
          "base_uri": "https://localhost:8080/",
          "height": 520
        }
      },
      "execution_count": 3,
      "outputs": [
        {
          "output_type": "stream",
          "name": "stdout",
          "text": [
            "--- Model Summary ---\n"
          ]
        },
        {
          "output_type": "display_data",
          "data": {
            "text/plain": [
              "\u001b[1mModel: \"SpatioTemporal_Feature_Extractor\"\u001b[0m\n"
            ],
            "text/html": [
              "<pre style=\"white-space:pre;overflow-x:auto;line-height:normal;font-family:Menlo,'DejaVu Sans Mono',consolas,'Courier New',monospace\"><span style=\"font-weight: bold\">Model: \"SpatioTemporal_Feature_Extractor\"</span>\n",
              "</pre>\n"
            ]
          },
          "metadata": {}
        },
        {
          "output_type": "display_data",
          "data": {
            "text/plain": [
              "┏━━━━━━━━━━━━━━━━━━━━━━━━━━━━━━━━━┳━━━━━━━━━━━━━━━━━━━━━━━━┳━━━━━━━━━━━━━━━┓\n",
              "┃\u001b[1m \u001b[0m\u001b[1mLayer (type)                   \u001b[0m\u001b[1m \u001b[0m┃\u001b[1m \u001b[0m\u001b[1mOutput Shape          \u001b[0m\u001b[1m \u001b[0m┃\u001b[1m \u001b[0m\u001b[1m      Param #\u001b[0m\u001b[1m \u001b[0m┃\n",
              "┡━━━━━━━━━━━━━━━━━━━━━━━━━━━━━━━━━╇━━━━━━━━━━━━━━━━━━━━━━━━╇━━━━━━━━━━━━━━━┩\n",
              "│ input_layer (\u001b[38;5;33mInputLayer\u001b[0m)        │ (\u001b[38;5;45mNone\u001b[0m, \u001b[38;5;34m60\u001b[0m, \u001b[38;5;34m60\u001b[0m, \u001b[38;5;34m100\u001b[0m)    │             \u001b[38;5;34m0\u001b[0m │\n",
              "├─────────────────────────────────┼────────────────────────┼───────────────┤\n",
              "│ mamad                           │ (\u001b[38;5;45mNone\u001b[0m, \u001b[38;5;45mNone\u001b[0m, \u001b[38;5;45mNone\u001b[0m,     │             \u001b[38;5;34m0\u001b[0m │\n",
              "│ (\u001b[38;5;33mCustomAutocorrelationLayer\u001b[0m)    │ \u001b[38;5;34m100\u001b[0m)                   │               │\n",
              "├─────────────────────────────────┼────────────────────────┼───────────────┤\n",
              "│ permute (\u001b[38;5;33mPermute\u001b[0m)               │ (\u001b[38;5;45mNone\u001b[0m, \u001b[38;5;34m100\u001b[0m, \u001b[38;5;45mNone\u001b[0m,      │             \u001b[38;5;34m0\u001b[0m │\n",
              "│                                 │ \u001b[38;5;45mNone\u001b[0m)                  │               │\n",
              "├─────────────────────────────────┼────────────────────────┼───────────────┤\n",
              "│ reshape (\u001b[38;5;33mReshape\u001b[0m)               │ (\u001b[38;5;45mNone\u001b[0m, \u001b[38;5;34m100\u001b[0m, \u001b[38;5;34m60\u001b[0m, \u001b[38;5;34m60\u001b[0m, \u001b[38;5;34m1\u001b[0m) │             \u001b[38;5;34m0\u001b[0m │\n",
              "├─────────────────────────────────┼────────────────────────┼───────────────┤\n",
              "│ time_distributed                │ (\u001b[38;5;45mNone\u001b[0m, \u001b[38;5;34m100\u001b[0m, \u001b[38;5;34m64\u001b[0m)        │        \u001b[38;5;34m19,200\u001b[0m │\n",
              "│ (\u001b[38;5;33mTimeDistributed\u001b[0m)               │                        │               │\n",
              "├─────────────────────────────────┼────────────────────────┼───────────────┤\n",
              "│ dense (\u001b[38;5;33mDense\u001b[0m)                   │ (\u001b[38;5;45mNone\u001b[0m, \u001b[38;5;34m100\u001b[0m, \u001b[38;5;34m10\u001b[0m)        │           \u001b[38;5;34m650\u001b[0m │\n",
              "├─────────────────────────────────┼────────────────────────┼───────────────┤\n",
              "│ permute_1 (\u001b[38;5;33mPermute\u001b[0m)             │ (\u001b[38;5;45mNone\u001b[0m, \u001b[38;5;34m10\u001b[0m, \u001b[38;5;34m100\u001b[0m)        │             \u001b[38;5;34m0\u001b[0m │\n",
              "└─────────────────────────────────┴────────────────────────┴───────────────┘\n"
            ],
            "text/html": [
              "<pre style=\"white-space:pre;overflow-x:auto;line-height:normal;font-family:Menlo,'DejaVu Sans Mono',consolas,'Courier New',monospace\">┏━━━━━━━━━━━━━━━━━━━━━━━━━━━━━━━━━┳━━━━━━━━━━━━━━━━━━━━━━━━┳━━━━━━━━━━━━━━━┓\n",
              "┃<span style=\"font-weight: bold\"> Layer (type)                    </span>┃<span style=\"font-weight: bold\"> Output Shape           </span>┃<span style=\"font-weight: bold\">       Param # </span>┃\n",
              "┡━━━━━━━━━━━━━━━━━━━━━━━━━━━━━━━━━╇━━━━━━━━━━━━━━━━━━━━━━━━╇━━━━━━━━━━━━━━━┩\n",
              "│ input_layer (<span style=\"color: #0087ff; text-decoration-color: #0087ff\">InputLayer</span>)        │ (<span style=\"color: #00d7ff; text-decoration-color: #00d7ff\">None</span>, <span style=\"color: #00af00; text-decoration-color: #00af00\">60</span>, <span style=\"color: #00af00; text-decoration-color: #00af00\">60</span>, <span style=\"color: #00af00; text-decoration-color: #00af00\">100</span>)    │             <span style=\"color: #00af00; text-decoration-color: #00af00\">0</span> │\n",
              "├─────────────────────────────────┼────────────────────────┼───────────────┤\n",
              "│ mamad                           │ (<span style=\"color: #00d7ff; text-decoration-color: #00d7ff\">None</span>, <span style=\"color: #00d7ff; text-decoration-color: #00d7ff\">None</span>, <span style=\"color: #00d7ff; text-decoration-color: #00d7ff\">None</span>,     │             <span style=\"color: #00af00; text-decoration-color: #00af00\">0</span> │\n",
              "│ (<span style=\"color: #0087ff; text-decoration-color: #0087ff\">CustomAutocorrelationLayer</span>)    │ <span style=\"color: #00af00; text-decoration-color: #00af00\">100</span>)                   │               │\n",
              "├─────────────────────────────────┼────────────────────────┼───────────────┤\n",
              "│ permute (<span style=\"color: #0087ff; text-decoration-color: #0087ff\">Permute</span>)               │ (<span style=\"color: #00d7ff; text-decoration-color: #00d7ff\">None</span>, <span style=\"color: #00af00; text-decoration-color: #00af00\">100</span>, <span style=\"color: #00d7ff; text-decoration-color: #00d7ff\">None</span>,      │             <span style=\"color: #00af00; text-decoration-color: #00af00\">0</span> │\n",
              "│                                 │ <span style=\"color: #00d7ff; text-decoration-color: #00d7ff\">None</span>)                  │               │\n",
              "├─────────────────────────────────┼────────────────────────┼───────────────┤\n",
              "│ reshape (<span style=\"color: #0087ff; text-decoration-color: #0087ff\">Reshape</span>)               │ (<span style=\"color: #00d7ff; text-decoration-color: #00d7ff\">None</span>, <span style=\"color: #00af00; text-decoration-color: #00af00\">100</span>, <span style=\"color: #00af00; text-decoration-color: #00af00\">60</span>, <span style=\"color: #00af00; text-decoration-color: #00af00\">60</span>, <span style=\"color: #00af00; text-decoration-color: #00af00\">1</span>) │             <span style=\"color: #00af00; text-decoration-color: #00af00\">0</span> │\n",
              "├─────────────────────────────────┼────────────────────────┼───────────────┤\n",
              "│ time_distributed                │ (<span style=\"color: #00d7ff; text-decoration-color: #00d7ff\">None</span>, <span style=\"color: #00af00; text-decoration-color: #00af00\">100</span>, <span style=\"color: #00af00; text-decoration-color: #00af00\">64</span>)        │        <span style=\"color: #00af00; text-decoration-color: #00af00\">19,200</span> │\n",
              "│ (<span style=\"color: #0087ff; text-decoration-color: #0087ff\">TimeDistributed</span>)               │                        │               │\n",
              "├─────────────────────────────────┼────────────────────────┼───────────────┤\n",
              "│ dense (<span style=\"color: #0087ff; text-decoration-color: #0087ff\">Dense</span>)                   │ (<span style=\"color: #00d7ff; text-decoration-color: #00d7ff\">None</span>, <span style=\"color: #00af00; text-decoration-color: #00af00\">100</span>, <span style=\"color: #00af00; text-decoration-color: #00af00\">10</span>)        │           <span style=\"color: #00af00; text-decoration-color: #00af00\">650</span> │\n",
              "├─────────────────────────────────┼────────────────────────┼───────────────┤\n",
              "│ permute_1 (<span style=\"color: #0087ff; text-decoration-color: #0087ff\">Permute</span>)             │ (<span style=\"color: #00d7ff; text-decoration-color: #00d7ff\">None</span>, <span style=\"color: #00af00; text-decoration-color: #00af00\">10</span>, <span style=\"color: #00af00; text-decoration-color: #00af00\">100</span>)        │             <span style=\"color: #00af00; text-decoration-color: #00af00\">0</span> │\n",
              "└─────────────────────────────────┴────────────────────────┴───────────────┘\n",
              "</pre>\n"
            ]
          },
          "metadata": {}
        },
        {
          "output_type": "display_data",
          "data": {
            "text/plain": [
              "\u001b[1m Total params: \u001b[0m\u001b[38;5;34m19,850\u001b[0m (77.54 KB)\n"
            ],
            "text/html": [
              "<pre style=\"white-space:pre;overflow-x:auto;line-height:normal;font-family:Menlo,'DejaVu Sans Mono',consolas,'Courier New',monospace\"><span style=\"font-weight: bold\"> Total params: </span><span style=\"color: #00af00; text-decoration-color: #00af00\">19,850</span> (77.54 KB)\n",
              "</pre>\n"
            ]
          },
          "metadata": {}
        },
        {
          "output_type": "display_data",
          "data": {
            "text/plain": [
              "\u001b[1m Trainable params: \u001b[0m\u001b[38;5;34m19,658\u001b[0m (76.79 KB)\n"
            ],
            "text/html": [
              "<pre style=\"white-space:pre;overflow-x:auto;line-height:normal;font-family:Menlo,'DejaVu Sans Mono',consolas,'Courier New',monospace\"><span style=\"font-weight: bold\"> Trainable params: </span><span style=\"color: #00af00; text-decoration-color: #00af00\">19,658</span> (76.79 KB)\n",
              "</pre>\n"
            ]
          },
          "metadata": {}
        },
        {
          "output_type": "display_data",
          "data": {
            "text/plain": [
              "\u001b[1m Non-trainable params: \u001b[0m\u001b[38;5;34m192\u001b[0m (768.00 B)\n"
            ],
            "text/html": [
              "<pre style=\"white-space:pre;overflow-x:auto;line-height:normal;font-family:Menlo,'DejaVu Sans Mono',consolas,'Courier New',monospace\"><span style=\"font-weight: bold\"> Non-trainable params: </span><span style=\"color: #00af00; text-decoration-color: #00af00\">192</span> (768.00 B)\n",
              "</pre>\n"
            ]
          },
          "metadata": {}
        },
        {
          "output_type": "stream",
          "name": "stdout",
          "text": [
            "\n",
            "--- Running a test prediction ---\n",
            "\u001b[1m1/1\u001b[0m \u001b[32m━━━━━━━━━━━━━━━━━━━━\u001b[0m\u001b[37m\u001b[0m \u001b[1m14s\u001b[0m 14s/step\n",
            "Input data shape: (2, 60, 60, 100)\n",
            "Final output shape: (2, 10, 100)\n"
          ]
        }
      ]
    },
    {
      "cell_type": "code",
      "source": [],
      "metadata": {
        "id": "sYcebQYynz8t"
      },
      "execution_count": 3,
      "outputs": []
    },
    {
      "cell_type": "markdown",
      "source": [
        "##testing"
      ],
      "metadata": {
        "id": "dmn17kIoqnYz"
      }
    },
    {
      "cell_type": "code",
      "source": [
        "from obspy.clients.fdsn import Client\n",
        "client = Client(\"IRIS\")  # Initialize Client to download data from IRIS\n",
        "import glob\n",
        "from scipy.signal import iirnotch, filtfilt\n",
        "import os\n",
        "import numpy as np\n",
        "import matplotlib.pyplot as plt\n",
        "from obspy.core import UTCDateTime, read, Stream\n",
        "from obspy.core.inventory.inventory import read_inventory"
      ],
      "metadata": {
        "id": "iWEJwDo7RuWH"
      },
      "execution_count": 4,
      "outputs": []
    },
    {
      "cell_type": "code",
      "source": [
        "def date_maker(year, month, day,hour, minute, second):\n",
        "    year = str(int(year))\n",
        "    month = str(int(month))\n",
        "    day = str(int(day))\n",
        "    hour = str(int(hour))\n",
        "    minute = str(int(minute))\n",
        "    second = str(int(second))\n",
        "\n",
        "    if len(month) == 1:\n",
        "        month = '0' + month\n",
        "    if len(day) == 1:\n",
        "        day = '0' + day\n",
        "    if len(hour) == 1:\n",
        "        hour = '0' + hour\n",
        "    if len(minute) == 1:\n",
        "        minute = '0' + minute\n",
        "    if len(second) == 1:\n",
        "        second = '0' + second\n",
        "\n",
        "    YMDHMS = year + \"-\" + month + \"-\" + day + \"-\" + hour + \"-\" + minute + \"-\" + second\n",
        "    return YMDHMS"
      ],
      "metadata": {
        "id": "89DvFhzaRpnh"
      },
      "execution_count": 5,
      "outputs": []
    },
    {
      "cell_type": "code",
      "source": [
        "def plot_spectrum(data, sampling_rate, title):\n",
        "    n = len(data)\n",
        "    fft_data = np.fft.rfft(data)\n",
        "    freqs = np.fft.rfftfreq(n, 1 / sampling_rate)\n",
        "    plt.figure(figsize=(8, 4))\n",
        "    plt.plot(freqs, np.abs(fft_data))\n",
        "    plt.title(title)\n",
        "    plt.xlabel(\"Frequency (Hz)\")\n",
        "    plt.ylabel(\"Amplitude\")\n",
        "    plt.grid(True)\n",
        "    plt.show()"
      ],
      "metadata": {
        "id": "6D3IOvLURvhW"
      },
      "execution_count": 6,
      "outputs": []
    },
    {
      "cell_type": "code",
      "source": [
        "network = \"GH\"\n",
        "# station_list = ['AKOS', 'KLEF', 'KUKU', 'MRON']\n",
        "station_list = ['AKOS']\n",
        "YMDHMS = date_maker(2013, 1, 1, 0, 0, 0.0)\n",
        "Main_direc = \"/content/wave\"\n",
        "st = read(\"/content/drive/MyDrive/Signal/2013-01-01-00-00-00.mseed\")\n",
        "st.plot()\n",
        "start_time = UTCDateTime(2013, 1, 1, 0, 0, 0.0)\n",
        "xml_dir = \"/content/drive/MyDrive/Signal/\"\n",
        "xml_files = glob.glob(os.path.join(xml_dir, \"*.xml\"))\n",
        "inventory = None"
      ],
      "metadata": {
        "colab": {
          "base_uri": "https://localhost:8080/",
          "height": 1000
        },
        "id": "G_lV7SPXRxdN",
        "outputId": "b50c9241-857a-4ddb-873f-631342495491"
      },
      "execution_count": 7,
      "outputs": [
        {
          "output_type": "display_data",
          "data": {
            "text/plain": [
              "<Figure size 800x1000 with 4 Axes>"
            ],
            "image/png": "[encoded data removed]"
          },
          "metadata": {}
        }
      ]
    },
    {
      "cell_type": "code",
      "source": [
        "for xml_file in xml_files:\n",
        "    inv = read_inventory(xml_file)\n",
        "    if inventory is None:\n",
        "        inventory = inv\n",
        "    else:\n",
        "        inventory += inv"
      ],
      "metadata": {
        "id": "LukqqJSAR0-T"
      },
      "execution_count": 8,
      "outputs": []
    },
    {
      "cell_type": "code",
      "source": [
        "pre_filt = (2, 4, 40.0, 50.0)"
      ],
      "metadata": {
        "id": "HkWuBFEYR4Vq"
      },
      "execution_count": 9,
      "outputs": []
    },
    {
      "cell_type": "code",
      "source": [
        "for station in station_list:\n",
        "    print(station)\n",
        "    for day in range(2):  # Adjust the range as per the actual number of days\n",
        "        print(day)\n",
        "        day_start = start_time + day * 86400  # 86400 seconds in a day\n",
        "        day_end = day_start + 86400\n",
        "        st_day = st.select(station=station).slice(starttime=day_start, endtime=day_end)\n",
        "        # st_day.remove_response(inventory=inventory, pre_filt=pre_filt)\n",
        "        # savemat('/home/shazam/Tokyo/Ghana_Collaboration/Matlab_codes/day_data_remove_response.mat', {'day_data_remove_response': st_day.traces[0].data})\n",
        "        # st_day.detrend(\"spline\", order=3, dspline=500)\n",
        "        sampling_rate = st.traces[0].stats.sampling_rate\n",
        "        # freq = 6.05  # Frequency to remove\n",
        "        # df = 0.5  # Width of the notch (0.5 Hz range for fine removal)\n",
        "        # freqmin = freq - df / 2.0\n",
        "        # freqmax = freq + df / 2.0\n",
        "        # Initialize a stream for stacking the daily PACs\n",
        "        daily_pac_stack = Stream()\n",
        "        for hour in range(24):\n",
        "            print(hour)\n",
        "            hour_start = day_start + hour * 3600  # 3600 seconds in an hour\n",
        "            hour_end = hour_start + 3600\n",
        "            st_hour = st_day.slice(starttime=hour_start, endtime=hour_end)\n",
        "            # st_hour.detrend(\"spline\", order=5, dspline=1000)\n",
        "            try:\n",
        "                st_hour.detrend(\"spline\", order=5, dspline=1000)\n",
        "            except ValueError as e:\n",
        "                if \"Interior knots t must satisfy Schoenberg-Whitney conditions\" in str(e):\n",
        "                    print(f\"Skipping iteration due to spline error: {e}\")\n",
        "                    continue  # Skip this iteration and proceed with the next one\n",
        "                else:\n",
        "                    raise  # If it's a different ValueError, re-raise it\n",
        "            st_hour.filter(\"highpass\", freq=1.3, corners=3, zerophase=True)\n",
        "            # st_hour.filter(\"lowpass\", freq=13, corners=3, zerophase=True)\n",
        "            while True:\n",
        "                n = len(st_hour.traces[0].data)\n",
        "                dt = st_hour.traces[0].stats.delta  # Sampling interval\n",
        "                freqs = np.fft.rfftfreq(n, dt)  # Frequency array\n",
        "                fft_vals = np.fft.rfft(st_hour.traces[0].data)  # Fourier transform\n",
        "                amplitude = np.abs(fft_vals)\n",
        "                max_index = np.argmax(amplitude[0:45000])\n",
        "                notch_freq = freqs[max_index]\n",
        "                quality_factor = 30  # Quality factor (higher value = narrower notch)\n",
        "                sampling_rate = st_hour[0].stats.sampling_rate  # Sampling rate (Hz)\n",
        "                b, a = iirnotch(w0=notch_freq, Q=quality_factor, fs=sampling_rate)\n",
        "                filtered_stream = st_hour.copy()\n",
        "                for trace in st_hour:\n",
        "                    trace.data = filtfilt(b, a, trace.data)\n",
        "                if 1==1:\n",
        "                    break\n",
        "            if len(st_hour) == 0:\n",
        "                print(f\"Data gap detected for {station} on {day_start}. Skipping this hour.\")\n",
        "                continue\n",
        "            try:\n",
        "                st_hour.remove_response(inventory=inventory, pre_filt=pre_filt)\n",
        "            except ValueError as e:\n",
        "                print(f\"ValueError encountered while processing {station} at hour {hour} on {day_start}: {e}\")\n",
        "                continue  # Skip this hour if there's an error\n",
        "            st_hour.detrend(\"spline\", order=3, dspline=700)\n",
        "            output_dir = \"/content/AutoCorr_Outputs\"\n",
        "            os.makedirs(output_dir, exist_ok=True)\n",
        "            # Combine all traces in this hour into a 2D array\n",
        "            try:\n",
        "                hour_data = np.stack([tr.data for tr in st_hour], axis=0)  # shape: (n_traces, n_samples)\n",
        "            except ValueError as e:\n",
        "                print(f\"Skipping {station} day {day} hour {hour} — inconsistent trace lengths: {e}\")\n",
        "                continue\n",
        "            filename = f\"{station}_day{day}_hour{hour}.npy\"\n",
        "            output_path = os.path.join(output_dir, filename)\n",
        "\n",
        "            # 2. Save the numpy array to the specified path\n",
        "            np.save(output_path, hour_data)\n",
        "            print(f\"Successfully saved data to {output_path}\")"
      ],
      "metadata": {
        "colab": {
          "base_uri": "https://localhost:8080/"
        },
        "id": "46cwckJTR7sP",
        "outputId": "1e044ace-3e2c-4fc3-af83-c55b8f8e8d29"
      },
      "execution_count": 10,
      "outputs": [
        {
          "output_type": "stream",
          "name": "stdout",
          "text": [
            "AKOS\n",
            "0\n",
            "0\n",
            "Successfully saved data to /content/AutoCorr_Outputs/AKOS_day0_hour0.npy\n",
            "1\n",
            "Successfully saved data to /content/AutoCorr_Outputs/AKOS_day0_hour1.npy\n",
            "2\n",
            "Successfully saved data to /content/AutoCorr_Outputs/AKOS_day0_hour2.npy\n",
            "3\n",
            "Successfully saved data to /content/AutoCorr_Outputs/AKOS_day0_hour3.npy\n",
            "4\n",
            "Successfully saved data to /content/AutoCorr_Outputs/AKOS_day0_hour4.npy\n",
            "5\n",
            "Successfully saved data to /content/AutoCorr_Outputs/AKOS_day0_hour5.npy\n",
            "6\n",
            "Successfully saved data to /content/AutoCorr_Outputs/AKOS_day0_hour6.npy\n",
            "7\n",
            "Successfully saved data to /content/AutoCorr_Outputs/AKOS_day0_hour7.npy\n",
            "8\n",
            "Successfully saved data to /content/AutoCorr_Outputs/AKOS_day0_hour8.npy\n",
            "9\n",
            "Successfully saved data to /content/AutoCorr_Outputs/AKOS_day0_hour9.npy\n",
            "10\n",
            "Successfully saved data to /content/AutoCorr_Outputs/AKOS_day0_hour10.npy\n",
            "11\n",
            "Successfully saved data to /content/AutoCorr_Outputs/AKOS_day0_hour11.npy\n",
            "12\n",
            "Successfully saved data to /content/AutoCorr_Outputs/AKOS_day0_hour12.npy\n",
            "13\n",
            "Successfully saved data to /content/AutoCorr_Outputs/AKOS_day0_hour13.npy\n",
            "14\n",
            "Successfully saved data to /content/AutoCorr_Outputs/AKOS_day0_hour14.npy\n",
            "15\n",
            "Successfully saved data to /content/AutoCorr_Outputs/AKOS_day0_hour15.npy\n",
            "16\n",
            "Successfully saved data to /content/AutoCorr_Outputs/AKOS_day0_hour16.npy\n",
            "17\n",
            "Successfully saved data to /content/AutoCorr_Outputs/AKOS_day0_hour17.npy\n",
            "18\n",
            "Successfully saved data to /content/AutoCorr_Outputs/AKOS_day0_hour18.npy\n",
            "19\n",
            "Successfully saved data to /content/AutoCorr_Outputs/AKOS_day0_hour19.npy\n",
            "20\n",
            "Successfully saved data to /content/AutoCorr_Outputs/AKOS_day0_hour20.npy\n",
            "21\n",
            "Successfully saved data to /content/AutoCorr_Outputs/AKOS_day0_hour21.npy\n",
            "22\n",
            "Successfully saved data to /content/AutoCorr_Outputs/AKOS_day0_hour22.npy\n",
            "23\n",
            "Successfully saved data to /content/AutoCorr_Outputs/AKOS_day0_hour23.npy\n",
            "1\n",
            "0\n",
            "Successfully saved data to /content/AutoCorr_Outputs/AKOS_day1_hour0.npy\n",
            "1\n",
            "Successfully saved data to /content/AutoCorr_Outputs/AKOS_day1_hour1.npy\n",
            "2\n",
            "Successfully saved data to /content/AutoCorr_Outputs/AKOS_day1_hour2.npy\n",
            "3\n",
            "Successfully saved data to /content/AutoCorr_Outputs/AKOS_day1_hour3.npy\n",
            "4\n",
            "Successfully saved data to /content/AutoCorr_Outputs/AKOS_day1_hour4.npy\n",
            "5\n",
            "Successfully saved data to /content/AutoCorr_Outputs/AKOS_day1_hour5.npy\n",
            "6\n",
            "Successfully saved data to /content/AutoCorr_Outputs/AKOS_day1_hour6.npy\n",
            "7\n",
            "Successfully saved data to /content/AutoCorr_Outputs/AKOS_day1_hour7.npy\n",
            "8\n",
            "Successfully saved data to /content/AutoCorr_Outputs/AKOS_day1_hour8.npy\n",
            "9\n",
            "Successfully saved data to /content/AutoCorr_Outputs/AKOS_day1_hour9.npy\n",
            "10\n",
            "Successfully saved data to /content/AutoCorr_Outputs/AKOS_day1_hour10.npy\n",
            "11\n",
            "Successfully saved data to /content/AutoCorr_Outputs/AKOS_day1_hour11.npy\n",
            "12\n",
            "Successfully saved data to /content/AutoCorr_Outputs/AKOS_day1_hour12.npy\n",
            "13\n",
            "Successfully saved data to /content/AutoCorr_Outputs/AKOS_day1_hour13.npy\n",
            "14\n",
            "Successfully saved data to /content/AutoCorr_Outputs/AKOS_day1_hour14.npy\n",
            "15\n",
            "Successfully saved data to /content/AutoCorr_Outputs/AKOS_day1_hour15.npy\n",
            "16\n",
            "Successfully saved data to /content/AutoCorr_Outputs/AKOS_day1_hour16.npy\n",
            "17\n",
            "Successfully saved data to /content/AutoCorr_Outputs/AKOS_day1_hour17.npy\n",
            "18\n",
            "Successfully saved data to /content/AutoCorr_Outputs/AKOS_day1_hour18.npy\n",
            "19\n",
            "Successfully saved data to /content/AutoCorr_Outputs/AKOS_day1_hour19.npy\n",
            "20\n",
            "Successfully saved data to /content/AutoCorr_Outputs/AKOS_day1_hour20.npy\n",
            "21\n",
            "Successfully saved data to /content/AutoCorr_Outputs/AKOS_day1_hour21.npy\n",
            "22\n",
            "Successfully saved data to /content/AutoCorr_Outputs/AKOS_day1_hour22.npy\n",
            "23\n",
            "Successfully saved data to /content/AutoCorr_Outputs/AKOS_day1_hour23.npy\n"
          ]
        }
      ]
    },
    {
      "cell_type": "code",
      "source": [
        "import os\n",
        "import numpy as np\n",
        "from obspy import Stream\n",
        "from scipy.signal import iirnotch, filtfilt\n",
        "# Assuming other necessary imports like obspy's read, UTCDateTime, etc., are already present\n",
        "# from obspy import read, UTCDateTime\n",
        "# from obspy.clients.fdsn import Client\n",
        "\n",
        "# --- Placeholder for variables defined earlier in your script ---\n",
        "# Example placeholders, replace with your actual objects\n",
        "# inventory = Client(\"GFZ\").get_stations(...)\n",
        "# st = read(\"your_data.mseed\")\n",
        "# start_time = UTCDateTime(\"2025-01-01\")\n",
        "# station_list = [\"STN1\", \"STN2\"]\n",
        "# pre_filt = [0.001, 0.005, 45, 50]\n",
        "# -----------------------------------------------------------------\n",
        "\n",
        "\n",
        "for station in station_list:\n",
        "    print(station)\n",
        "    for day in range(1):  # Adjust the range as per the actual number of days\n",
        "        print(day)\n",
        "        day_start = start_time + day * 86400  # 86400 seconds in a day\n",
        "        day_end = day_start + 86400\n",
        "        st_day = st.select(station=station).slice(starttime=day_start, endtime=day_end)\n",
        "\n",
        "        sampling_rate = st.traces[0].stats.sampling_rate\n",
        "\n",
        "        # Initialize a stream for stacking the daily PACs\n",
        "        daily_pac_stack = Stream()\n",
        "\n",
        "        for hour in range(24):\n",
        "            print(hour)\n",
        "            hour_start = day_start + hour * 3600  # 3600 seconds in an hour\n",
        "            hour_end = hour_start + 3600\n",
        "            st_hour = st_day.slice(starttime=hour_start, endtime=hour_end)\n",
        "\n",
        "            # Skip if there's no data for the hour\n",
        "            if len(st_hour) == 0:\n",
        "                print(f\"Data gap detected for {station} on {day_start}. Skipping this hour.\")\n",
        "                continue\n",
        "\n",
        "            try:\n",
        "                st_hour.detrend(\"spline\", order=5, dspline=1000)\n",
        "            except ValueError as e:\n",
        "                if \"Interior knots t must satisfy Schoenberg-Whitney conditions\" in str(e):\n",
        "                    print(f\"Skipping iteration due to spline error: {e}\")\n",
        "                    continue  # Skip this iteration and proceed with the next one\n",
        "                else:\n",
        "                    raise  # If it's a different ValueError, re-raise it\n",
        "\n",
        "            st_hour.filter(\"highpass\", freq=1.3, corners=3, zerophase=True)\n",
        "\n",
        "            while True:\n",
        "                n = len(st_hour.traces[0].data)\n",
        "                dt = st_hour.traces[0].stats.delta  # Sampling interval\n",
        "                freqs = np.fft.rfftfreq(n, dt)  # Frequency array\n",
        "                fft_vals = np.fft.rfft(st_hour.traces[0].data)  # Fourier transform\n",
        "                amplitude = np.abs(fft_vals)\n",
        "                max_index = np.argmax(amplitude[0:45000])\n",
        "                notch_freq = freqs[max_index]\n",
        "                quality_factor = 30  # Quality factor (higher value = narrower notch)\n",
        "                sampling_rate = st_hour[0].stats.sampling_rate  # Sampling rate (Hz)\n",
        "                b, a = iirnotch(w0=notch_freq, Q=quality_factor, fs=sampling_rate)\n",
        "\n",
        "                # Use a copy to apply the filter, then assign back\n",
        "                filtered_stream = st_hour.copy()\n",
        "                for i, trace in enumerate(filtered_stream):\n",
        "                    st_hour[i].data = filtfilt(b, a, trace.data)\n",
        "\n",
        "                if 1 == 1: # This condition is always true, so the loop runs only once.\n",
        "                    break\n",
        "\n",
        "            try:\n",
        "                st_hour.remove_response(inventory=inventory, pre_filt=pre_filt)\n",
        "            except ValueError as e:\n",
        "                print(f\"ValueError encountered while processing {station} at hour {hour} on {day_start}: {e}\")\n",
        "                continue  # Skip this hour if there's an error\n",
        "\n",
        "            # This is the line you mentioned\n",
        "            st_hour.detrend(\"spline\", order=3, dspline=700)\n",
        "\n",
        "            # --- MODIFIED SECTION START ---\n",
        "\n",
        "            output_dir = \"/content/Mseeds\"\n",
        "            os.makedirs(output_dir, exist_ok=True)\n",
        "\n",
        "            # 1. Define the output filename with a .mseed extension\n",
        "            filename = f\"{station}_day{day}_hour{hour}.mseed\"\n",
        "            output_path = os.path.join(output_dir, filename)\n",
        "\n",
        "            # 2. Save the processed Stream object to a MiniSEED file\n",
        "            # The .write() method handles the conversion.\n",
        "            st_hour.write(output_path, format=\"MSEED\")\n",
        "\n",
        "            print(f\"Successfully saved data to {output_path}\")\n",
        "\n",
        "            # --- MODIFIED SECTION END ---"
      ],
      "metadata": {
        "colab": {
          "base_uri": "https://localhost:8080/"
        },
        "id": "Kg0QhT5gcNiU",
        "outputId": "5ef544db-80da-4c00-b2f2-5d4a132359a5"
      },
      "execution_count": 14,
      "outputs": [
        {
          "output_type": "stream",
          "name": "stdout",
          "text": [
            "AKOS\n",
            "0\n",
            "0\n"
          ]
        },
        {
          "output_type": "stream",
          "name": "stderr",
          "text": [
            "/usr/local/lib/python3.12/dist-packages/obspy/io/mseed/core.py:773: UserWarning: The encoding specified in trace.stats.mseed.encoding does not match the dtype of the data.\n",
            "A suitable encoding will be chosen.\n",
            "  warnings.warn(msg, UserWarning)\n"
          ]
        },
        {
          "output_type": "stream",
          "name": "stdout",
          "text": [
            "Successfully saved data to /content/Mseeds/AKOS_day0_hour0.mseed\n",
            "1\n",
            "Successfully saved data to /content/Mseeds/AKOS_day0_hour1.mseed\n",
            "2\n",
            "Successfully saved data to /content/Mseeds/AKOS_day0_hour2.mseed\n",
            "3\n",
            "Successfully saved data to /content/Mseeds/AKOS_day0_hour3.mseed\n",
            "4\n",
            "Successfully saved data to /content/Mseeds/AKOS_day0_hour4.mseed\n",
            "5\n",
            "Successfully saved data to /content/Mseeds/AKOS_day0_hour5.mseed\n",
            "6\n",
            "Successfully saved data to /content/Mseeds/AKOS_day0_hour6.mseed\n",
            "7\n",
            "Successfully saved data to /content/Mseeds/AKOS_day0_hour7.mseed\n",
            "8\n",
            "Successfully saved data to /content/Mseeds/AKOS_day0_hour8.mseed\n",
            "9\n",
            "Successfully saved data to /content/Mseeds/AKOS_day0_hour9.mseed\n",
            "10\n",
            "Successfully saved data to /content/Mseeds/AKOS_day0_hour10.mseed\n",
            "11\n",
            "Successfully saved data to /content/Mseeds/AKOS_day0_hour11.mseed\n",
            "12\n",
            "Successfully saved data to /content/Mseeds/AKOS_day0_hour12.mseed\n",
            "13\n",
            "Successfully saved data to /content/Mseeds/AKOS_day0_hour13.mseed\n",
            "14\n",
            "Successfully saved data to /content/Mseeds/AKOS_day0_hour14.mseed\n",
            "15\n",
            "Successfully saved data to /content/Mseeds/AKOS_day0_hour15.mseed\n",
            "16\n",
            "Successfully saved data to /content/Mseeds/AKOS_day0_hour16.mseed\n",
            "17\n",
            "Successfully saved data to /content/Mseeds/AKOS_day0_hour17.mseed\n",
            "18\n",
            "Successfully saved data to /content/Mseeds/AKOS_day0_hour18.mseed\n",
            "19\n",
            "Successfully saved data to /content/Mseeds/AKOS_day0_hour19.mseed\n",
            "20\n",
            "Successfully saved data to /content/Mseeds/AKOS_day0_hour20.mseed\n",
            "21\n",
            "Successfully saved data to /content/Mseeds/AKOS_day0_hour21.mseed\n",
            "22\n",
            "Successfully saved data to /content/Mseeds/AKOS_day0_hour22.mseed\n",
            "23\n",
            "Successfully saved data to /content/Mseeds/AKOS_day0_hour23.mseed\n",
            "1\n",
            "0\n",
            "Successfully saved data to /content/Mseeds/AKOS_day1_hour0.mseed\n",
            "1\n",
            "Successfully saved data to /content/Mseeds/AKOS_day1_hour1.mseed\n",
            "2\n",
            "Successfully saved data to /content/Mseeds/AKOS_day1_hour2.mseed\n",
            "3\n",
            "Successfully saved data to /content/Mseeds/AKOS_day1_hour3.mseed\n",
            "4\n",
            "Successfully saved data to /content/Mseeds/AKOS_day1_hour4.mseed\n",
            "5\n",
            "Successfully saved data to /content/Mseeds/AKOS_day1_hour5.mseed\n",
            "6\n",
            "Successfully saved data to /content/Mseeds/AKOS_day1_hour6.mseed\n",
            "7\n",
            "Successfully saved data to /content/Mseeds/AKOS_day1_hour7.mseed\n",
            "8\n",
            "Successfully saved data to /content/Mseeds/AKOS_day1_hour8.mseed\n",
            "9\n",
            "Successfully saved data to /content/Mseeds/AKOS_day1_hour9.mseed\n",
            "10\n",
            "Successfully saved data to /content/Mseeds/AKOS_day1_hour10.mseed\n",
            "11\n",
            "Successfully saved data to /content/Mseeds/AKOS_day1_hour11.mseed\n",
            "12\n",
            "Successfully saved data to /content/Mseeds/AKOS_day1_hour12.mseed\n",
            "13\n",
            "Successfully saved data to /content/Mseeds/AKOS_day1_hour13.mseed\n",
            "14\n",
            "Successfully saved data to /content/Mseeds/AKOS_day1_hour14.mseed\n",
            "15\n",
            "Successfully saved data to /content/Mseeds/AKOS_day1_hour15.mseed\n",
            "16\n",
            "Successfully saved data to /content/Mseeds/AKOS_day1_hour16.mseed\n",
            "17\n",
            "Successfully saved data to /content/Mseeds/AKOS_day1_hour17.mseed\n",
            "18\n",
            "Successfully saved data to /content/Mseeds/AKOS_day1_hour18.mseed\n",
            "19\n",
            "Successfully saved data to /content/Mseeds/AKOS_day1_hour19.mseed\n",
            "20\n",
            "Successfully saved data to /content/Mseeds/AKOS_day1_hour20.mseed\n",
            "21\n",
            "Successfully saved data to /content/Mseeds/AKOS_day1_hour21.mseed\n",
            "22\n",
            "Successfully saved data to /content/Mseeds/AKOS_day1_hour22.mseed\n",
            "23\n",
            "Successfully saved data to /content/Mseeds/AKOS_day1_hour23.mseed\n"
          ]
        }
      ]
    },
    {
      "cell_type": "code",
      "source": [
        "from obspy import read\n",
        "\n",
        "# Define the path to the mseed file\n",
        "mseed_file_path = \"/content/Mseeds/AKOS_day0_hour0.mseed\"\n",
        "\n",
        "# Read the mseed file\n",
        "try:\n",
        "    st_mseed = read(mseed_file_path)\n",
        "\n",
        "    # Plot the data\n",
        "    print(f\"Plotting data from: {mseed_file_path}\")\n",
        "    st_mseed.plot()\n",
        "\n",
        "except FileNotFoundError:\n",
        "    print(f\"Error: The file '{mseed_file_path}' was not found.\")\n",
        "except Exception as e:\n",
        "    print(f\"An error occurred while reading or plotting the file: {e}\")"
      ],
      "metadata": {
        "colab": {
          "base_uri": "https://localhost:8080/",
          "height": 272
        },
        "id": "zMH2GHvZcpch",
        "outputId": "b421d76c-ae4f-4d4f-b395-6ac032f58b70"
      },
      "execution_count": 15,
      "outputs": [
        {
          "output_type": "stream",
          "name": "stdout",
          "text": [
            "Plotting data from: /content/Mseeds/AKOS_day0_hour0.mseed\n"
          ]
        },
        {
          "output_type": "display_data",
          "data": {
            "text/plain": [
              "<Figure size 800x250 with 1 Axes>"
            ],
            "image/png": "[encoded data removed]"
          },
          "metadata": {}
        }
      ]
    },
    {
      "cell_type": "code",
      "source": [
        "import glob\n",
        "from obspy import read\n",
        "import os\n",
        "\n",
        "# Define the directory containing the mseed files\n",
        "mseed_directory = \"/content/Mseeds\"\n",
        "\n",
        "# Find all .mseed files in the directory\n",
        "mseed_files = glob.glob(os.path.join(mseed_directory, \"*.mseed\"))\n",
        "\n",
        "# Check if any files were found\n",
        "if not mseed_files:\n",
        "    print(f\"No .mseed files found in {mseed_directory}\")\n",
        "else:\n",
        "    # Create an empty Stream to hold all the data\n",
        "    combined_stream = Stream()\n",
        "\n",
        "    # Read each mseed file and append its content to the combined stream\n",
        "    print(f\"Reading {len(mseed_files)} mseed files from {mseed_directory}...\")\n",
        "    for mseed_file in mseed_files:\n",
        "        try:\n",
        "            st = read(mseed_file)\n",
        "            combined_stream += st\n",
        "        except Exception as e:\n",
        "            print(f\"Error reading file {mseed_file}: {e}\")\n",
        "\n",
        "    # Plot the combined stream in one window\n",
        "    if len(combined_stream) > 0:\n",
        "        print(\"Plotting combined data...\")\n",
        "        combined_stream.plot()\n",
        "    else:\n",
        "        print(\"No data to plot after attempting to read files.\")"
      ],
      "metadata": {
        "colab": {
          "base_uri": "https://localhost:8080/",
          "height": 290
        },
        "id": "5zE8HvW9cz1n",
        "outputId": "f28976b6-0edb-4d6c-abfc-9d294ce682cb"
      },
      "execution_count": 16,
      "outputs": [
        {
          "output_type": "stream",
          "name": "stdout",
          "text": [
            "Reading 48 mseed files from /content/Mseeds...\n",
            "Plotting combined data...\n"
          ]
        },
        {
          "output_type": "display_data",
          "data": {
            "text/plain": [
              "<Figure size 800x250 with 1 Axes>"
            ],
            "image/png": "[encoded data removed]"
          },
          "metadata": {}
        }
      ]
    },
    {
      "cell_type": "code",
      "source": [
        "import os\n",
        "import glob\n",
        "import numpy as np\n",
        "import tensorflow as tf\n",
        "from keras.layers import (\n",
        "    Input, Permute, Reshape, Conv2D, BatchNormalization,\n",
        "    ReLU, MaxPooling2D, GlobalAveragePooling2D, TimeDistributed, Dense, Layer\n",
        ")\n",
        "from keras.models import Model\n",
        "from sklearn.model_selection import train_test_split\n",
        "from keras.callbacks import ModelCheckpoint, EarlyStopping\n",
        "import matplotlib.pyplot as plt\n",
        "\n",
        "#  Custom Keras Layer Definition\n",
        "\n",
        "class CustomAutocorrelationLayer(Layer):\n",
        "    \"\"\"\n",
        "    A custom layer that calculates the temporal auto-correlation of an input tensor.\n",
        "    It operates on the last axis, which is assumed to be the time dimension.\n",
        "    The calculation is performed efficiently in the frequency domain using FFT.\n",
        "    \"\"\"\n",
        "    def __init__(self, **kwargs):\n",
        "        super(CustomAutocorrelationLayer, self).__init__(**kwargs)\n",
        "\n",
        "    def call(self, inputs):\n",
        "        # Input shape: (Batch, Height, Width, TimeSteps)\n",
        "        sequence_length = tf.shape(inputs)[-1]\n",
        "\n",
        "        # Step 1: Go to Frequency Domain using FFT\n",
        "        fft_result = tf.signal.rfft(inputs, fft_length=[sequence_length])\n",
        "\n",
        "        # Step 2: Compute Power Spectral Density (FFT * Conjugate[FFT])\n",
        "        power_spectral_density = fft_result * tf.math.conj(fft_result)\n",
        "\n",
        "        # Step 3: Go back to Time Domain using Inverse FFT\n",
        "        autocorr_result = tf.signal.irfft(power_spectral_density, fft_length=[sequence_length])\n",
        "\n",
        "        return autocorr_result\n",
        "\n",
        "    def get_config(self):\n",
        "        # Required for model saving and loading\n",
        "        config = super(CustomAutocorrelationLayer, self).get_config()\n",
        "        return config\n",
        "\n",
        "#  Spatio-Temporal Model Architecture\n",
        "\n",
        "def build_spatio_temporal_model(input_shape=(60, 60, 100)):\n",
        "    \"\"\"\n",
        "    Builds the complete Spatio-Temporal feature extraction model.\n",
        "    \"\"\"\n",
        "    inputs = Input(shape=input_shape)\n",
        "\n",
        "    # --- Part 1: Temporal Transformation & Reshaping ---\n",
        "    temporal_features = CustomAutocorrelationLayer(name = 'mamad')(inputs)\n",
        "    permuted = Permute((3, 1, 2))(temporal_features)\n",
        "    reshaped = Reshape((100, 60, 60, 1))(permuted)\n",
        "\n",
        "    # --- Part 2: Time-Distributed Spatial Feature Extraction ---\n",
        "    cnn_block = tf.keras.Sequential([\n",
        "        Conv2D(32, kernel_size=(3, 3), padding='same'),\n",
        "        BatchNormalization(),\n",
        "        ReLU(),\n",
        "        MaxPooling2D(pool_size=(2, 2)),\n",
        "        Conv2D(64, kernel_size=(3, 3), padding='same'),\n",
        "        BatchNormalization(),\n",
        "        ReLU(),\n",
        "        MaxPooling2D(pool_size=(2, 2)),\n",
        "        GlobalAveragePooling2D()\n",
        "    ], name='internal_cnn_block')\n",
        "\n",
        "    time_distributed_cnn = TimeDistributed(cnn_block)(reshaped)\n",
        "\n",
        "    # --- Part 3: Final Transformation ---\n",
        "    dense_features = Dense(10, activation='relu')(time_distributed_cnn)\n",
        "    final_output = Permute((2, 1))(dense_features)\n",
        "\n",
        "    model = Model(inputs=inputs, outputs=final_output, name='SpatioTemporal_Feature_Extractor')\n",
        "    return model\n",
        "\n",
        "#  Data Loading and Preparation\n",
        "\n",
        "def load_autocorr_data(path=\"AutoCorr_Outputs\", input_shape=(60, 60, 100)):\n",
        "    \"\"\"\n",
        "    Loads all .npy files, reshapes, and normalizes them.\n",
        "    \"\"\"\n",
        "    if not os.path.exists(path):\n",
        "        print(f\"Directory '{path}' not found. Creating dummy data for demonstration.\")\n",
        "        num_samples = 20\n",
        "        X = np.random.rand(num_samples, *input_shape).astype(np.float32)\n",
        "        print(f\" Created {num_samples} dummy samples with shape {X.shape}\")\n",
        "        return X\n",
        "\n",
        "    files = sorted(glob.glob(os.path.join(path, \"*.npy\")))\n",
        "    if len(files) == 0:\n",
        "        raise FileNotFoundError(f\"No .npy files found in {path}\")\n",
        "\n",
        "    X = []\n",
        "    for f in files:\n",
        "        data = np.load(f)\n",
        "        data = np.nan_to_num(data)\n",
        "        flat = data.flatten()\n",
        "        total_needed = np.prod(input_shape)\n",
        "\n",
        "        if flat.size < total_needed:\n",
        "            flat = np.pad(flat, (0, total_needed - flat.size))\n",
        "        elif flat.size > total_needed:\n",
        "            flat = flat[:total_needed]\n",
        "\n",
        "        reshaped = flat.reshape(input_shape)\n",
        "        # Normalize each sample independently\n",
        "        mean = np.mean(reshaped)\n",
        "        std = np.std(reshaped)\n",
        "        reshaped = (reshaped - mean) / (std + 1e-8)\n",
        "        X.append(reshaped)\n",
        "\n",
        "    X = np.array(X, dtype=np.float32)\n",
        "    print(f\"Loaded {len(X)} samples from {path}, shape per sample: {X.shape[1:]}\")\n",
        "    return X\n",
        "\n",
        "# Model Loading Helper\n",
        "\n",
        "def build_or_load_model(input_shape=(60, 60, 100), model_path=\"trained_spatio_temporal_model.h5\"):\n",
        "    \"\"\"\n",
        "    Loads a previously saved model if it exists, otherwise builds a new one.\n",
        "    \"\"\"\n",
        "    if os.path.exists(model_path):\n",
        "        print(f\" Found existing model at {model_path}, loading...\")\n",
        "        model = tf.keras.models.load_model(\n",
        "            model_path,\n",
        "            custom_objects={'CustomAutocorrelationLayer': CustomAutocorrelationLayer},\n",
        "            compile=False # Do not compile the model during loading\n",
        "        )\n",
        "    else:\n",
        "        print(\" Building a new spatio-temporal model...\")\n",
        "        model = build_spatio_temporal_model(input_shape)\n",
        "\n",
        "    # Always compile the model after loading or building\n",
        "    model.compile(optimizer='adam', loss='mse', metrics=['mae'])\n",
        "    print(\"--- Model Summary ---\")\n",
        "    model.summary()\n",
        "    return model\n",
        "\n",
        "#  Training Pipeline\n",
        "\n",
        "def train_model():\n",
        "    \"\"\"\n",
        "    Main function to run the data loading, model building, and training process.\n",
        "    \"\"\"\n",
        "    # --- Configuration ---\n",
        "    INPUT_SHAPE = (60, 60, 100)\n",
        "    MODEL_PATH = \"trained_spatio_temporal_model.h5\"\n",
        "    DATA_PATH = \"/content/AutoCorr_Outputs\"\n",
        "\n",
        "    # --- Load Data ---\n",
        "    X = load_autocorr_data(path=DATA_PATH, input_shape=INPUT_SHAPE)\n",
        "\n",
        "    # --- Dummy Labels (replace with real targets) ---\n",
        "    # The model's output shape is (Batch, 10, 100)\n",
        "    y = np.random.rand(len(X), 10, 100).astype(np.float32)\n",
        "    print(f\" Using dummy labels with shape {y.shape} for training demonstration.\")\n",
        "    print(f'zzzzzzzzz{y}')\n",
        "\n",
        "    # --- Split Data ---\n",
        "    X_train, X_val, y_train, y_val = train_test_split(X, y, test_size=0.2, random_state=42)\n",
        "\n",
        "    # --- Build or Load Model ---\n",
        "    model = build_or_load_model(INPUT_SHAPE, MODEL_PATH)\n",
        "\n",
        "    # --- Callbacks ---\n",
        "    checkpoint = ModelCheckpoint(MODEL_PATH, monitor='val_loss', save_best_only=True, verbose=1)\n",
        "    early_stop = EarlyStopping(monitor='val_loss', patience=5, restore_best_weights=True)\n",
        "\n",
        "    # --- Train Model ---\n",
        "    print(\"\\n Starting training...\")\n",
        "    history = model.fit(\n",
        "        X_train, y_train,\n",
        "        validation_data=(X_val, y_val),\n",
        "        epochs=1,\n",
        "        batch_size=4,\n",
        "        callbacks=[checkpoint, early_stop],\n",
        "        verbose=1\n",
        "    )\n",
        "\n",
        "    # --- Final Save and Summary ---\n",
        "    model.save(MODEL_PATH)\n",
        "    print(f\"\\n Training complete. Final model saved to {MODEL_PATH}\")\n",
        "\n",
        "    # --- Plot Training History ---\n",
        "    plt.figure(figsize=(8, 5))\n",
        "    plt.plot(history.history['loss'], label='Training Loss')\n",
        "    plt.plot(history.history['val_loss'], label='Validation Loss')\n",
        "    plt.title(\"Model Training History\")\n",
        "    plt.xlabel(\"Epoch\")\n",
        "    plt.ylabel(\"MSE Loss\")\n",
        "    plt.legend()\n",
        "    plt.grid(True)\n",
        "    plt.tight_layout()\n",
        "    plt.show()\n",
        "\n",
        "    return model\n",
        "\n",
        "# Run the Training Process\n",
        "\n",
        "if __name__ == '__main__':\n",
        "    # Note: This script expects .npy files in a directory named \"AutoCorr_Outputs\".\n",
        "    # If this directory doesn't exist, it will automatically generate random dummy\n",
        "    # data to demonstrate the training process.\n",
        "    trained_model = train_model()"
      ],
      "metadata": {
        "colab": {
          "base_uri": "https://localhost:8080/",
          "height": 1000
        },
        "id": "YcAhfELBfNhH",
        "outputId": "c42648de-2a91-40e0-a914-4c70b58172e6"
      },
      "execution_count": 11,
      "outputs": [
        {
          "output_type": "stream",
          "name": "stdout",
          "text": [
            "Loaded 48 samples from /content/AutoCorr_Outputs, shape per sample: (60, 60, 100)\n",
            " Using dummy labels with shape (48, 10, 100) for training demonstration.\n",
            "zzzzzzzzz[[[0.14383435 0.9761971  0.7433984  ... 0.23641847 0.46556234 0.25915855]\n",
            "  [0.86036277 0.27560323 0.5407619  ... 0.72605145 0.36316606 0.89875364]\n",
            "  [0.8787349  0.51891184 0.03182336 ... 0.42340106 0.52750415 0.27679014]\n",
            "  ...\n",
            "  [0.24111176 0.9191717  0.46134713 ... 0.29918492 0.9176839  0.13179743]\n",
            "  [0.40794393 0.61845785 0.94244176 ... 0.22767958 0.38085574 0.20166154]\n",
            "  [0.68205285 0.12182548 0.3189788  ... 0.21452832 0.45913592 0.16925822]]\n",
            "\n",
            " [[0.5021524  0.04827449 0.33901346 ... 0.85160094 0.9471669  0.707257  ]\n",
            "  [0.6359205  0.03639776 0.19403206 ... 0.5491537  0.0612127  0.15973315]\n",
            "  [0.23545878 0.19120778 0.7575528  ... 0.9742445  0.38761744 0.99677885]\n",
            "  ...\n",
            "  [0.04325812 0.47685137 0.88221496 ... 0.80004776 0.12032084 0.9447303 ]\n",
            "  [0.512477   0.83103716 0.36226907 ... 0.16887692 0.68302053 0.8124442 ]\n",
            "  [0.97918004 0.5103467  0.686793   ... 0.68370426 0.29338974 0.57219094]]\n",
            "\n",
            " [[0.2757124  0.6944201  0.99543905 ... 0.8718989  0.8505592  0.15549365]\n",
            "  [0.80664265 0.60408366 0.82488275 ... 0.58560336 0.38890675 0.2307738 ]\n",
            "  [0.27885735 0.68292564 0.05620189 ... 0.36058408 0.5067659  0.42068395]\n",
            "  ...\n",
            "  [0.32168952 0.2002501  0.6574174  ... 0.9912285  0.9766543  0.90811545]\n",
            "  [0.3646241  0.17977355 0.8742089  ... 0.9653128  0.5151124  0.35672775]\n",
            "  [0.7662264  0.8993546  0.97184044 ... 0.1890374  0.36163813 0.9990556 ]]\n",
            "\n",
            " ...\n",
            "\n",
            " [[0.28570065 0.56216145 0.8436866  ... 0.54672825 0.42155576 0.29681137]\n",
            "  [0.67237926 0.8615248  0.24812251 ... 0.23757342 0.7788605  0.80343133]\n",
            "  [0.98020416 0.819028   0.6503587  ... 0.53967667 0.27007684 0.78250426]\n",
            "  ...\n",
            "  [0.9605567  0.8262299  0.98556757 ... 0.3930432  0.08924628 0.3508388 ]\n",
            "  [0.61806685 0.6689164  0.8310997  ... 0.567055   0.53105694 0.07840496]\n",
            "  [0.23849916 0.97970337 0.51837707 ... 0.99864054 0.09546435 0.22834215]]\n",
            "\n",
            " [[0.7302605  0.88894963 0.42863187 ... 0.46170518 0.21148865 0.792918  ]\n",
            "  [0.8750051  0.29248422 0.09711057 ... 0.31026876 0.8687055  0.63889205]\n",
            "  [0.26449156 0.47170344 0.88926554 ... 0.14035076 0.7500215  0.5355887 ]\n",
            "  ...\n",
            "  [0.09459922 0.6808301  0.70136994 ... 0.01589346 0.30600658 0.01658442]\n",
            "  [0.0466326  0.18334584 0.04623615 ... 0.97504544 0.5829428  0.19402522]\n",
            "  [0.91403633 0.79351866 0.23695579 ... 0.40332863 0.90750176 0.8457773 ]]\n",
            "\n",
            " [[0.78798735 0.21264575 0.87720513 ... 0.940817   0.10236114 0.39041552]\n",
            "  [0.94168985 0.19162278 0.28471786 ... 0.73544556 0.5033269  0.71114784]\n",
            "  [0.8826667  0.7614911  0.36282006 ... 0.54327345 0.7906548  0.42826614]\n",
            "  ...\n",
            "  [0.03700506 0.3870363  0.49893203 ... 0.8823365  0.68779254 0.82360387]\n",
            "  [0.7011174  0.24239554 0.7255674  ... 0.5004573  0.36683556 0.90145624]\n",
            "  [0.16234933 0.11938109 0.22897579 ... 0.2931724  0.11980774 0.13078901]]]\n",
            " Building a new spatio-temporal model...\n",
            "--- Model Summary ---\n"
          ]
        },
        {
          "output_type": "display_data",
          "data": {
            "text/plain": [
              "\u001b[1mModel: \"SpatioTemporal_Feature_Extractor\"\u001b[0m\n"
            ],
            "text/html": [
              "<pre style=\"white-space:pre;overflow-x:auto;line-height:normal;font-family:Menlo,'DejaVu Sans Mono',consolas,'Courier New',monospace\"><span style=\"font-weight: bold\">Model: \"SpatioTemporal_Feature_Extractor\"</span>\n",
              "</pre>\n"
            ]
          },
          "metadata": {}
        },
        {
          "output_type": "display_data",
          "data": {
            "text/plain": [
              "┏━━━━━━━━━━━━━━━━━━━━━━━━━━━━━━━━━┳━━━━━━━━━━━━━━━━━━━━━━━━┳━━━━━━━━━━━━━━━┓\n",
              "┃\u001b[1m \u001b[0m\u001b[1mLayer (type)                   \u001b[0m\u001b[1m \u001b[0m┃\u001b[1m \u001b[0m\u001b[1mOutput Shape          \u001b[0m\u001b[1m \u001b[0m┃\u001b[1m \u001b[0m\u001b[1m      Param #\u001b[0m\u001b[1m \u001b[0m┃\n",
              "┡━━━━━━━━━━━━━━━━━━━━━━━━━━━━━━━━━╇━━━━━━━━━━━━━━━━━━━━━━━━╇━━━━━━━━━━━━━━━┩\n",
              "│ input_layer_2 (\u001b[38;5;33mInputLayer\u001b[0m)      │ (\u001b[38;5;45mNone\u001b[0m, \u001b[38;5;34m60\u001b[0m, \u001b[38;5;34m60\u001b[0m, \u001b[38;5;34m100\u001b[0m)    │             \u001b[38;5;34m0\u001b[0m │\n",
              "├─────────────────────────────────┼────────────────────────┼───────────────┤\n",
              "│ mamad                           │ (\u001b[38;5;45mNone\u001b[0m, \u001b[38;5;45mNone\u001b[0m, \u001b[38;5;45mNone\u001b[0m,     │             \u001b[38;5;34m0\u001b[0m │\n",
              "│ (\u001b[38;5;33mCustomAutocorrelationLayer\u001b[0m)    │ \u001b[38;5;34m100\u001b[0m)                   │               │\n",
              "├─────────────────────────────────┼────────────────────────┼───────────────┤\n",
              "│ permute_2 (\u001b[38;5;33mPermute\u001b[0m)             │ (\u001b[38;5;45mNone\u001b[0m, \u001b[38;5;34m100\u001b[0m, \u001b[38;5;45mNone\u001b[0m,      │             \u001b[38;5;34m0\u001b[0m │\n",
              "│                                 │ \u001b[38;5;45mNone\u001b[0m)                  │               │\n",
              "├─────────────────────────────────┼────────────────────────┼───────────────┤\n",
              "│ reshape_1 (\u001b[38;5;33mReshape\u001b[0m)             │ (\u001b[38;5;45mNone\u001b[0m, \u001b[38;5;34m100\u001b[0m, \u001b[38;5;34m60\u001b[0m, \u001b[38;5;34m60\u001b[0m, \u001b[38;5;34m1\u001b[0m) │             \u001b[38;5;34m0\u001b[0m │\n",
              "├─────────────────────────────────┼────────────────────────┼───────────────┤\n",
              "│ time_distributed_1              │ (\u001b[38;5;45mNone\u001b[0m, \u001b[38;5;34m100\u001b[0m, \u001b[38;5;34m64\u001b[0m)        │        \u001b[38;5;34m19,200\u001b[0m │\n",
              "│ (\u001b[38;5;33mTimeDistributed\u001b[0m)               │                        │               │\n",
              "├─────────────────────────────────┼────────────────────────┼───────────────┤\n",
              "│ dense_1 (\u001b[38;5;33mDense\u001b[0m)                 │ (\u001b[38;5;45mNone\u001b[0m, \u001b[38;5;34m100\u001b[0m, \u001b[38;5;34m10\u001b[0m)        │           \u001b[38;5;34m650\u001b[0m │\n",
              "├─────────────────────────────────┼────────────────────────┼───────────────┤\n",
              "│ permute_3 (\u001b[38;5;33mPermute\u001b[0m)             │ (\u001b[38;5;45mNone\u001b[0m, \u001b[38;5;34m10\u001b[0m, \u001b[38;5;34m100\u001b[0m)        │             \u001b[38;5;34m0\u001b[0m │\n",
              "└─────────────────────────────────┴────────────────────────┴───────────────┘\n"
            ],
            "text/html": [
              "<pre style=\"white-space:pre;overflow-x:auto;line-height:normal;font-family:Menlo,'DejaVu Sans Mono',consolas,'Courier New',monospace\">┏━━━━━━━━━━━━━━━━━━━━━━━━━━━━━━━━━┳━━━━━━━━━━━━━━━━━━━━━━━━┳━━━━━━━━━━━━━━━┓\n",
              "┃<span style=\"font-weight: bold\"> Layer (type)                    </span>┃<span style=\"font-weight: bold\"> Output Shape           </span>┃<span style=\"font-weight: bold\">       Param # </span>┃\n",
              "┡━━━━━━━━━━━━━━━━━━━━━━━━━━━━━━━━━╇━━━━━━━━━━━━━━━━━━━━━━━━╇━━━━━━━━━━━━━━━┩\n",
              "│ input_layer_2 (<span style=\"color: #0087ff; text-decoration-color: #0087ff\">InputLayer</span>)      │ (<span style=\"color: #00d7ff; text-decoration-color: #00d7ff\">None</span>, <span style=\"color: #00af00; text-decoration-color: #00af00\">60</span>, <span style=\"color: #00af00; text-decoration-color: #00af00\">60</span>, <span style=\"color: #00af00; text-decoration-color: #00af00\">100</span>)    │             <span style=\"color: #00af00; text-decoration-color: #00af00\">0</span> │\n",
              "├─────────────────────────────────┼────────────────────────┼───────────────┤\n",
              "│ mamad                           │ (<span style=\"color: #00d7ff; text-decoration-color: #00d7ff\">None</span>, <span style=\"color: #00d7ff; text-decoration-color: #00d7ff\">None</span>, <span style=\"color: #00d7ff; text-decoration-color: #00d7ff\">None</span>,     │             <span style=\"color: #00af00; text-decoration-color: #00af00\">0</span> │\n",
              "│ (<span style=\"color: #0087ff; text-decoration-color: #0087ff\">CustomAutocorrelationLayer</span>)    │ <span style=\"color: #00af00; text-decoration-color: #00af00\">100</span>)                   │               │\n",
              "├─────────────────────────────────┼────────────────────────┼───────────────┤\n",
              "│ permute_2 (<span style=\"color: #0087ff; text-decoration-color: #0087ff\">Permute</span>)             │ (<span style=\"color: #00d7ff; text-decoration-color: #00d7ff\">None</span>, <span style=\"color: #00af00; text-decoration-color: #00af00\">100</span>, <span style=\"color: #00d7ff; text-decoration-color: #00d7ff\">None</span>,      │             <span style=\"color: #00af00; text-decoration-color: #00af00\">0</span> │\n",
              "│                                 │ <span style=\"color: #00d7ff; text-decoration-color: #00d7ff\">None</span>)                  │               │\n",
              "├─────────────────────────────────┼────────────────────────┼───────────────┤\n",
              "│ reshape_1 (<span style=\"color: #0087ff; text-decoration-color: #0087ff\">Reshape</span>)             │ (<span style=\"color: #00d7ff; text-decoration-color: #00d7ff\">None</span>, <span style=\"color: #00af00; text-decoration-color: #00af00\">100</span>, <span style=\"color: #00af00; text-decoration-color: #00af00\">60</span>, <span style=\"color: #00af00; text-decoration-color: #00af00\">60</span>, <span style=\"color: #00af00; text-decoration-color: #00af00\">1</span>) │             <span style=\"color: #00af00; text-decoration-color: #00af00\">0</span> │\n",
              "├─────────────────────────────────┼────────────────────────┼───────────────┤\n",
              "│ time_distributed_1              │ (<span style=\"color: #00d7ff; text-decoration-color: #00d7ff\">None</span>, <span style=\"color: #00af00; text-decoration-color: #00af00\">100</span>, <span style=\"color: #00af00; text-decoration-color: #00af00\">64</span>)        │        <span style=\"color: #00af00; text-decoration-color: #00af00\">19,200</span> │\n",
              "│ (<span style=\"color: #0087ff; text-decoration-color: #0087ff\">TimeDistributed</span>)               │                        │               │\n",
              "├─────────────────────────────────┼────────────────────────┼───────────────┤\n",
              "│ dense_1 (<span style=\"color: #0087ff; text-decoration-color: #0087ff\">Dense</span>)                 │ (<span style=\"color: #00d7ff; text-decoration-color: #00d7ff\">None</span>, <span style=\"color: #00af00; text-decoration-color: #00af00\">100</span>, <span style=\"color: #00af00; text-decoration-color: #00af00\">10</span>)        │           <span style=\"color: #00af00; text-decoration-color: #00af00\">650</span> │\n",
              "├─────────────────────────────────┼────────────────────────┼───────────────┤\n",
              "│ permute_3 (<span style=\"color: #0087ff; text-decoration-color: #0087ff\">Permute</span>)             │ (<span style=\"color: #00d7ff; text-decoration-color: #00d7ff\">None</span>, <span style=\"color: #00af00; text-decoration-color: #00af00\">10</span>, <span style=\"color: #00af00; text-decoration-color: #00af00\">100</span>)        │             <span style=\"color: #00af00; text-decoration-color: #00af00\">0</span> │\n",
              "└─────────────────────────────────┴────────────────────────┴───────────────┘\n",
              "</pre>\n"
            ]
          },
          "metadata": {}
        },
        {
          "output_type": "display_data",
          "data": {
            "text/plain": [
              "\u001b[1m Total params: \u001b[0m\u001b[38;5;34m19,850\u001b[0m (77.54 KB)\n"
            ],
            "text/html": [
              "<pre style=\"white-space:pre;overflow-x:auto;line-height:normal;font-family:Menlo,'DejaVu Sans Mono',consolas,'Courier New',monospace\"><span style=\"font-weight: bold\"> Total params: </span><span style=\"color: #00af00; text-decoration-color: #00af00\">19,850</span> (77.54 KB)\n",
              "</pre>\n"
            ]
          },
          "metadata": {}
        },
        {
          "output_type": "display_data",
          "data": {
            "text/plain": [
              "\u001b[1m Trainable params: \u001b[0m\u001b[38;5;34m19,658\u001b[0m (76.79 KB)\n"
            ],
            "text/html": [
              "<pre style=\"white-space:pre;overflow-x:auto;line-height:normal;font-family:Menlo,'DejaVu Sans Mono',consolas,'Courier New',monospace\"><span style=\"font-weight: bold\"> Trainable params: </span><span style=\"color: #00af00; text-decoration-color: #00af00\">19,658</span> (76.79 KB)\n",
              "</pre>\n"
            ]
          },
          "metadata": {}
        },
        {
          "output_type": "display_data",
          "data": {
            "text/plain": [
              "\u001b[1m Non-trainable params: \u001b[0m\u001b[38;5;34m192\u001b[0m (768.00 B)\n"
            ],
            "text/html": [
              "<pre style=\"white-space:pre;overflow-x:auto;line-height:normal;font-family:Menlo,'DejaVu Sans Mono',consolas,'Courier New',monospace\"><span style=\"font-weight: bold\"> Non-trainable params: </span><span style=\"color: #00af00; text-decoration-color: #00af00\">192</span> (768.00 B)\n",
              "</pre>\n"
            ]
          },
          "metadata": {}
        },
        {
          "output_type": "stream",
          "name": "stdout",
          "text": [
            "\n",
            " Starting training...\n",
            "\u001b[1m10/10\u001b[0m \u001b[32m━━━━━━━━━━━━━━━━━━━━\u001b[0m\u001b[37m\u001b[0m \u001b[1m0s\u001b[0m 5s/step - loss: 0.2759 - mae: 0.4309  \n",
            "Epoch 1: val_loss improved from inf to 0.29947, saving model to trained_spatio_temporal_model.h5\n"
          ]
        },
        {
          "output_type": "stream",
          "name": "stderr",
          "text": [
            "WARNING:absl:You are saving your model as an HDF5 file via `model.save()` or `keras.saving.save_model(model)`. This file format is considered legacy. We recommend using instead the native Keras format, e.g. `model.save('my_model.keras')` or `keras.saving.save_model(model, 'my_model.keras')`. \n"
          ]
        },
        {
          "output_type": "stream",
          "name": "stdout",
          "text": [
            "\b\b\b\b\b\b\b\b\b\b\b\b\b\b\b\b\b\b\b\b\b\b\b\b\b\b\b\b\b\b\b\b\b\b\b\b\b\b\b\b\b\b\b\b\b\b\b\b\b\b\b\b\b\b\b\b\b\b\b\b\b\b\b\b\b\b\r\u001b[1m10/10\u001b[0m \u001b[32m━━━━━━━━━━━━━━━━━━━━\u001b[0m\u001b[37m\u001b[0m \u001b[1m156s\u001b[0m 8s/step - loss: 0.2720 - mae: 0.4277 - val_loss: 0.2995 - val_mae: 0.4141\n"
          ]
        },
        {
          "output_type": "stream",
          "name": "stderr",
          "text": [
            "WARNING:absl:You are saving your model as an HDF5 file via `model.save()` or `keras.saving.save_model(model)`. This file format is considered legacy. We recommend using instead the native Keras format, e.g. `model.save('my_model.keras')` or `keras.saving.save_model(model, 'my_model.keras')`. \n"
          ]
        },
        {
          "output_type": "stream",
          "name": "stdout",
          "text": [
            "\n",
            " Training complete. Final model saved to trained_spatio_temporal_model.h5\n"
          ]
        },
        {
          "output_type": "display_data",
          "data": {
            "text/plain": [
              "<Figure size 800x500 with 1 Axes>"
            ],
            "image/png": "[encoded data removed]"
          },
          "metadata": {}
        }
      ]
    },
    {
      "cell_type": "code",
      "source": [
        "for i, layer in enumerate(model.layers):\n",
        "    print(i, layer.name, type(layer))"
      ],
      "metadata": {
        "colab": {
          "base_uri": "https://localhost:8080/"
        },
        "id": "6akj8n37uyJa",
        "outputId": "e5338e2a-9fde-41ad-fbdc-4714dd10c898"
      },
      "execution_count": 12,
      "outputs": [
        {
          "output_type": "stream",
          "name": "stdout",
          "text": [
            "0 input_layer <class 'keras.src.layers.core.input_layer.InputLayer'>\n",
            "1 mamad <class '__main__.CustomAutocorrelationLayer'>\n",
            "2 permute <class 'keras.src.layers.reshaping.permute.Permute'>\n",
            "3 reshape <class 'keras.src.layers.reshaping.reshape.Reshape'>\n",
            "4 time_distributed <class 'keras.src.layers.rnn.time_distributed.TimeDistributed'>\n",
            "5 dense <class 'keras.src.layers.core.dense.Dense'>\n",
            "6 permute_1 <class 'keras.src.layers.reshaping.permute.Permute'>\n"
          ]
        }
      ]
    },
    {
      "cell_type": "code",
      "metadata": {
        "colab": {
          "base_uri": "https://localhost:8080/"
        },
        "id": "1dbcd3f9",
        "outputId": "9601ddad-46ff-45ad-ee28-0838f9ae77b9"
      },
      "source": [
        "# Create a new model that outputs the result of the CustomAutocorrelationLayer\n",
        "# We use the same input layer from the original model and set the output\n",
        "# to be the output of the custom layer.\n",
        "\n",
        "# First, find the CustomAutocorrelationLayer in the original model\n",
        "autocorr_layer = None\n",
        "for layer in model.layers:\n",
        "    if isinstance(layer, CustomAutocorrelationLayer):\n",
        "        autocorr_layer = layer\n",
        "        break\n",
        "\n",
        "if autocorr_layer is None:\n",
        "    print(\"CustomAutocorrelationLayer not found in the model.\")\n",
        "else:\n",
        "    # Create a new model with the same input and the custom layer's output\n",
        "    autocorr_model = Model(inputs=model.input, outputs=model.get_layer(name = 'mamad').output)\n",
        "    # Display the summary of the new model\n",
        "    print(\"--- Autocorrelation Model Summary ---\")\n",
        "    autocorr_model.summary()\n",
        "\n",
        "    # Load the data\n",
        "    data_path = \"/content/AutoCorr_Outputs\"\n",
        "    input_shape = (60, 60, 100) # Assuming the input shape is still this\n",
        "    X_data = load_autocorr_data(path=data_path, input_shape=input_shape)\n",
        "\n",
        "    # Get the output from the autocorrelation layer\n",
        "    autocorr_output = autocorr_model.predict(X_data)\n",
        "\n",
        "    # Define the output filename\n",
        "    output_filename = \"/content/autocorr_layer_output.npy\"\n",
        "\n",
        "    # Save the output as a numpy array\n",
        "    np.save(output_filename, autocorr_output)\n",
        "\n",
        "    print(f\"\\nSuccessfully extracted and saved the CustomAutocorrelationLayer output to {output_filename}\")"
      ],
      "execution_count": 13,
      "outputs": [
        {
          "output_type": "stream",
          "name": "stdout",
          "text": [
            "CustomAutocorrelationLayer not found in the model.\n"
          ]
        }
      ]
    },
    {
      "cell_type": "code",
      "source": [],
      "metadata": {
        "id": "gHpGPbUVgQBN"
      },
      "execution_count": null,
      "outputs": []
    }
  ]
}