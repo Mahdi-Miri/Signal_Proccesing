{
  "nbformat": 4,
  "nbformat_minor": 0,
  "metadata": {
    "colab": {
      "provenance": [],
      "mount_file_id": "https://github.com/Mahdi-Miri/Signal_Proccesing-/blob/main/Signal_Proccesing.ipynb",
      "authorship_tag": "ABX9TyPJsyibDhDid2Gli/MktS21",
      "include_colab_link": true
    },
    "kernelspec": {
      "name": "python3",
      "display_name": "Python 3"
    },
    "language_info": {
      "name": "python"
    }
  },
  "cells": [
    {
      "cell_type": "markdown",
      "metadata": {
        "id": "view-in-github",
        "colab_type": "text"
      },
      "source": [
        "<a href=\"https://colab.research.google.com/github/Mahdi-Miri/Signal_Proccesing/blob/main/Signal_Proccesing.ipynb\" target=\"_parent\"><img src=\"https://colab.research.google.com/assets/colab-badge.svg\" alt=\"Open In Colab\"/></a>"
      ]
    },
    {
      "cell_type": "markdown",
      "source": [
        "##Data Readig"
      ],
      "metadata": {
        "id": "FTuvlrstUHeC"
      }
    },
    {
      "cell_type": "code",
      "metadata": {
        "colab": {
          "base_uri": "https://localhost:8080/"
        },
        "id": "ec8fe35a",
        "outputId": "f1b3db71-0178-4575-e42a-186da817dc39"
      },
      "source": [
        "!pip install obspy"
      ],
      "execution_count": 5,
      "outputs": [
        {
          "output_type": "stream",
          "name": "stdout",
          "text": [
            "Requirement already satisfied: obspy in /usr/local/lib/python3.12/dist-packages (1.4.2)\n",
            "Requirement already satisfied: numpy>=1.20 in /usr/local/lib/python3.12/dist-packages (from obspy) (2.0.2)\n",
            "Requirement already satisfied: scipy>=1.7 in /usr/local/lib/python3.12/dist-packages (from obspy) (1.16.2)\n",
            "Requirement already satisfied: matplotlib>=3.3 in /usr/local/lib/python3.12/dist-packages (from obspy) (3.10.0)\n",
            "Requirement already satisfied: lxml in /usr/local/lib/python3.12/dist-packages (from obspy) (5.4.0)\n",
            "Requirement already satisfied: setuptools in /usr/local/lib/python3.12/dist-packages (from obspy) (75.2.0)\n",
            "Requirement already satisfied: sqlalchemy<2 in /usr/local/lib/python3.12/dist-packages (from obspy) (1.4.54)\n",
            "Requirement already satisfied: decorator in /usr/local/lib/python3.12/dist-packages (from obspy) (4.4.2)\n",
            "Requirement already satisfied: requests in /usr/local/lib/python3.12/dist-packages (from obspy) (2.32.4)\n",
            "Requirement already satisfied: contourpy>=1.0.1 in /usr/local/lib/python3.12/dist-packages (from matplotlib>=3.3->obspy) (1.3.3)\n",
            "Requirement already satisfied: cycler>=0.10 in /usr/local/lib/python3.12/dist-packages (from matplotlib>=3.3->obspy) (0.12.1)\n",
            "Requirement already satisfied: fonttools>=4.22.0 in /usr/local/lib/python3.12/dist-packages (from matplotlib>=3.3->obspy) (4.60.1)\n",
            "Requirement already satisfied: kiwisolver>=1.3.1 in /usr/local/lib/python3.12/dist-packages (from matplotlib>=3.3->obspy) (1.4.9)\n",
            "Requirement already satisfied: packaging>=20.0 in /usr/local/lib/python3.12/dist-packages (from matplotlib>=3.3->obspy) (25.0)\n",
            "Requirement already satisfied: pillow>=8 in /usr/local/lib/python3.12/dist-packages (from matplotlib>=3.3->obspy) (11.3.0)\n",
            "Requirement already satisfied: pyparsing>=2.3.1 in /usr/local/lib/python3.12/dist-packages (from matplotlib>=3.3->obspy) (3.2.5)\n",
            "Requirement already satisfied: python-dateutil>=2.7 in /usr/local/lib/python3.12/dist-packages (from matplotlib>=3.3->obspy) (2.9.0.post0)\n",
            "Requirement already satisfied: greenlet!=0.4.17 in /usr/local/lib/python3.12/dist-packages (from sqlalchemy<2->obspy) (3.2.4)\n",
            "Requirement already satisfied: charset_normalizer<4,>=2 in /usr/local/lib/python3.12/dist-packages (from requests->obspy) (3.4.3)\n",
            "Requirement already satisfied: idna<4,>=2.5 in /usr/local/lib/python3.12/dist-packages (from requests->obspy) (3.10)\n",
            "Requirement already satisfied: urllib3<3,>=1.21.1 in /usr/local/lib/python3.12/dist-packages (from requests->obspy) (2.5.0)\n",
            "Requirement already satisfied: certifi>=2017.4.17 in /usr/local/lib/python3.12/dist-packages (from requests->obspy) (2025.8.3)\n",
            "Requirement already satisfied: six>=1.5 in /usr/local/lib/python3.12/dist-packages (from python-dateutil>=2.7->matplotlib>=3.3->obspy) (1.17.0)\n"
          ]
        }
      ]
    },
    {
      "cell_type": "markdown",
      "source": [
        "##Modelling"
      ],
      "metadata": {
        "id": "3yqHTrHlNELT"
      }
    },
    {
      "cell_type": "code",
      "source": [
        "import tensorflow as tf\n",
        "from tensorflow.keras.layers import (\n",
        "    Input, Conv2D, BatchNormalization, ReLU, MaxPooling2D,\n",
        "    GlobalAveragePooling2D, TimeDistributed, Dense, Permute, Reshape, Layer\n",
        ")\n",
        "from tensorflow.keras.models import Model\n",
        "import numpy as np"
      ],
      "metadata": {
        "id": "xw-UFeFjNI11"
      },
      "execution_count": 6,
      "outputs": []
    },
    {
      "cell_type": "code",
      "source": [
        "# --- Custom Layer Definition with Functional Implementation ---\n",
        "# This layer now has a functional implementation based on the\n",
        "# Auto-Correlation mechanism using Fast Fourier Transform (FFT).\n",
        "class CustomAutocorrelationLayer(Layer):\n",
        "    \"\"\"\n",
        "    A custom layer that calculates the temporal auto-correlation of an input tensor.\n",
        "    It operates on the last axis, which is assumed to be the time dimension.\n",
        "    The calculation is performed efficiently in the frequency domain using FFT.\n",
        "    \"\"\"\n",
        "    def __init__(self, **kwargs):\n",
        "        super(CustomAutocorrelationLayer, self).__init__(**kwargs)\n",
        "\n",
        "    def call(self, inputs):\n",
        "        # The input shape is expected to be (Batch, Height, Width, TimeSteps)\n",
        "        # We need to compute auto-correlation along the TimeSteps axis (axis=-1).\n",
        "\n",
        "        # Get the length of the time series\n",
        "        sequence_length = tf.shape(inputs)[-1]\n",
        "\n",
        "        # --- Step 1: Go to Frequency Domain using FFT ---\n",
        "        # Perform Fast Fourier Transform. tf.signal.rfft is used for real-valued inputs.\n",
        "        # The length of the FFT is padded to the next power of 2 for efficiency,\n",
        "        # but for simplicity, we'll use the original length here.\n",
        "        fft_result = tf.signal.rfft(inputs, fft_length=[sequence_length])\n",
        "\n",
        "        # --- Step 2: Compute Power Spectral Density ---\n",
        "        # This is where the correlation is calculated.\n",
        "        # It's done by multiplying the FFT result by its complex conjugate.\n",
        "        # This is equivalent to convolution in the time domain.\n",
        "        power_spectral_density = fft_result * tf.math.conj(fft_result)\n",
        "\n",
        "        # --- Step 3: Go back to Time Domain using Inverse FFT ---\n",
        "        # Perform Inverse Real Fast Fourier Transform to get the auto-correlation series.\n",
        "        autocorr_result = tf.signal.irfft(power_spectral_density, fft_length=[sequence_length])\n",
        "\n",
        "        return autocorr_result\n",
        "\n",
        "    def get_config(self):\n",
        "        # Required for model saving and loading\n",
        "        config = super(CustomAutocorrelationLayer, self).get_config()\n",
        "        return config\n",
        "\n",
        "# --- Full Architecture Definition ---\n",
        "def build_spatio_temporal_model(input_shape=(60, 60, 100)):\n",
        "    \"\"\"\n",
        "    Builds the complete Spatio-Temporal feature extraction model based on the diagram.\n",
        "\n",
        "    Args:\n",
        "        input_shape (tuple): The shape of the input data (Height, Width, TimeSteps).\n",
        "\n",
        "    Returns:\n",
        "        keras.Model: The compiled Keras model.\n",
        "    \"\"\"\n",
        "    # Define the input layer for our spatio-temporal data\n",
        "    inputs = Input(shape=input_shape)\n",
        "\n",
        "    # --- Part 1: Temporal Transformation & Reshaping ---\n",
        "\n",
        "    # Apply the functional autocorrelation layer to find temporal patterns.\n",
        "    # This layer processes each spatial point's time series (60x60 series of length 100).\n",
        "    # Output values now represent the strength of temporal correlations.\n",
        "    temporal_features = CustomAutocorrelationLayer()(inputs)  # Shape: (None, 60, 60, 100)\n",
        "\n",
        "    # Permute the dimensions to bring the time-steps to the front for the next stage.\n",
        "    # (Height, Width, TimeSteps) -> (TimeSteps, Height, Width)\n",
        "    permuted = Permute((3, 1, 2))(temporal_features)  # Shape: (None, 100, 60, 60)\n",
        "\n",
        "    # Reshape to add a 'channels' dimension. Each time-step is now a 60x60x1 image,\n",
        "    # ready to be processed by a 2D CNN.\n",
        "    reshaped = Reshape((100, 60, 60, 1))(permuted)  # Shape: (None, 100, 60, 60, 1)\n",
        "\n",
        "    # --- Part 2: Time-Distributed Spatial Feature Extraction ---\n",
        "\n",
        "    # Define the CNN block that extracts spatial features from a single 60x60 frame.\n",
        "    cnn_block = tf.keras.Sequential([\n",
        "        # Finds low-level features like edges and gradients.\n",
        "        Conv2D(32, kernel_size=(3, 3), padding='same'),\n",
        "        BatchNormalization(),\n",
        "        ReLU(),\n",
        "        # Downsamples the feature map to make representations more robust.\n",
        "        MaxPooling2D(pool_size=(2, 2)),\n",
        "\n",
        "        # Finds higher-level features by combining low-level ones.\n",
        "        Conv2D(64, kernel_size=(3, 3), padding='same'),\n",
        "        BatchNormalization(),\n",
        "        ReLU(),\n",
        "        MaxPooling2D(pool_size=(2, 2)),\n",
        "\n",
        "        # Summarizes all spatial features in the frame into a single, fixed-size vector.\n",
        "        GlobalAveragePooling2D()\n",
        "    ], name='internal_cnn_block')\n",
        "\n",
        "    # Apply the defined cnn_block to each of the 100 time-steps independently.\n",
        "    # The output is a sequence of 100 feature vectors, one for each time-step.\n",
        "    time_distributed_cnn = TimeDistributed(cnn_block)(reshaped)  # Shape: (None, 100, 64)\n",
        "\n",
        "    # --- Part 3: Final Transformation ---\n",
        "\n",
        "    # A Dense layer refines the features from the CNN, reducing each feature vector's size to 10.\n",
        "    # It learns combinations of the spatial features.\n",
        "    dense_features = Dense(10, activation='relu')(time_distributed_cnn)  # Shape: (None, 100, 10)\n",
        "\n",
        "    # Final permutation to get the output shape of (Features, TimeSteps).\n",
        "    # This format might be useful for downstream tasks that analyze each feature over time.\n",
        "    final_output = Permute((2, 1))(dense_features)  # Shape: (None, 10, 100)\n",
        "\n",
        "    # Create the final model by defining its inputs and outputs\n",
        "    model = Model(inputs=inputs, outputs=final_output, name='SpatioTemporal_Feature_Extractor')\n",
        "\n",
        "    return model\n",
        "\n",
        "# --- Model Creation, Compilation, and Execution Example ---\n",
        "\n",
        "if __name__ == '__main__':\n",
        "    # Define the input shape as per the diagram\n",
        "    INPUT_SHAPE = (60, 60, 100)\n",
        "\n",
        "    # Build the model\n",
        "    model = build_spatio_temporal_model(input_shape=INPUT_SHAPE)\n",
        "\n",
        "    # Compile the model. A loss function and optimizer are needed for training.\n",
        "    # For feature extraction, you might not train it, but compilation is a good practice.\n",
        "    model.compile(optimizer='adam', loss='mse')\n",
        "\n",
        "    # Print the model summary to verify the architecture and shapes\n",
        "    print(\"--- Model Summary ---\")\n",
        "    model.summary()\n",
        "\n",
        "    # --- Example of running the model with dummy data ---\n",
        "    print(\"\\n--- Running a test prediction ---\")\n",
        "    # Create a batch of 2 dummy \"videos\" with random data\n",
        "    dummy_data = np.random.rand(2, *INPUT_SHAPE)\n",
        "\n",
        "    # Get the model's prediction\n",
        "    predictions = model.predict(dummy_data)\n",
        "\n",
        "    # Print the shape of the output to confirm it matches the design\n",
        "    print(f\"Input data shape: {dummy_data.shape}\")\n",
        "    print(f\"Final output shape: {predictions.shape}\")\n"
      ],
      "metadata": {
        "id": "o0hhgiZvNFMF",
        "outputId": "476f3009-fa26-4085-c7a3-c83ce76b8638",
        "colab": {
          "base_uri": "https://localhost:8080/",
          "height": 520
        }
      },
      "execution_count": 7,
      "outputs": [
        {
          "metadata": {
            "tags": null
          },
          "name": "stdout",
          "output_type": "stream",
          "text": [
            "--- Model Summary ---\n"
          ]
        },
        {
          "data": {
            "text/html": [
              "<pre style=\"white-space:pre;overflow-x:auto;line-height:normal;font-family:Menlo,'DejaVu Sans Mono',consolas,'Courier New',monospace\"><span style=\"font-weight: bold\">Model: \"SpatioTemporal_Feature_Extractor\"</span>\n",
              "</pre>\n"
            ],
            "text/plain": [
              "\u001b[1mModel: \"SpatioTemporal_Feature_Extractor\"\u001b[0m\n"
            ]
          },
          "metadata": {},
          "output_type": "display_data"
        },
        {
          "data": {
            "text/html": [
              "<pre style=\"white-space:pre;overflow-x:auto;line-height:normal;font-family:Menlo,'DejaVu Sans Mono',consolas,'Courier New',monospace\">┏━━━━━━━━━━━━━━━━━━━━━━━━━━━━━━━━━┳━━━━━━━━━━━━━━━━━━━━━━━━┳━━━━━━━━━━━━━━━┓\n",
              "┃<span style=\"font-weight: bold\"> Layer (type)                    </span>┃<span style=\"font-weight: bold\"> Output Shape           </span>┃<span style=\"font-weight: bold\">       Param # </span>┃\n",
              "┡━━━━━━━━━━━━━━━━━━━━━━━━━━━━━━━━━╇━━━━━━━━━━━━━━━━━━━━━━━━╇━━━━━━━━━━━━━━━┩\n",
              "│ input_layer (<span style=\"color: #0087ff; text-decoration-color: #0087ff\">InputLayer</span>)        │ (<span style=\"color: #00d7ff; text-decoration-color: #00d7ff\">None</span>, <span style=\"color: #00af00; text-decoration-color: #00af00\">60</span>, <span style=\"color: #00af00; text-decoration-color: #00af00\">60</span>, <span style=\"color: #00af00; text-decoration-color: #00af00\">100</span>)    │             <span style=\"color: #00af00; text-decoration-color: #00af00\">0</span> │\n",
              "├─────────────────────────────────┼────────────────────────┼───────────────┤\n",
              "│ custom_autocorrelation_layer    │ (<span style=\"color: #00d7ff; text-decoration-color: #00d7ff\">None</span>, <span style=\"color: #00d7ff; text-decoration-color: #00d7ff\">None</span>, <span style=\"color: #00d7ff; text-decoration-color: #00d7ff\">None</span>,     │             <span style=\"color: #00af00; text-decoration-color: #00af00\">0</span> │\n",
              "│ (<span style=\"color: #0087ff; text-decoration-color: #0087ff\">CustomAutocorrelationLayer</span>)    │ <span style=\"color: #00af00; text-decoration-color: #00af00\">100</span>)                   │               │\n",
              "├─────────────────────────────────┼────────────────────────┼───────────────┤\n",
              "│ permute (<span style=\"color: #0087ff; text-decoration-color: #0087ff\">Permute</span>)               │ (<span style=\"color: #00d7ff; text-decoration-color: #00d7ff\">None</span>, <span style=\"color: #00af00; text-decoration-color: #00af00\">100</span>, <span style=\"color: #00d7ff; text-decoration-color: #00d7ff\">None</span>,      │             <span style=\"color: #00af00; text-decoration-color: #00af00\">0</span> │\n",
              "│                                 │ <span style=\"color: #00d7ff; text-decoration-color: #00d7ff\">None</span>)                  │               │\n",
              "├─────────────────────────────────┼────────────────────────┼───────────────┤\n",
              "│ reshape (<span style=\"color: #0087ff; text-decoration-color: #0087ff\">Reshape</span>)               │ (<span style=\"color: #00d7ff; text-decoration-color: #00d7ff\">None</span>, <span style=\"color: #00af00; text-decoration-color: #00af00\">100</span>, <span style=\"color: #00af00; text-decoration-color: #00af00\">60</span>, <span style=\"color: #00af00; text-decoration-color: #00af00\">60</span>, <span style=\"color: #00af00; text-decoration-color: #00af00\">1</span>) │             <span style=\"color: #00af00; text-decoration-color: #00af00\">0</span> │\n",
              "├─────────────────────────────────┼────────────────────────┼───────────────┤\n",
              "│ time_distributed                │ (<span style=\"color: #00d7ff; text-decoration-color: #00d7ff\">None</span>, <span style=\"color: #00af00; text-decoration-color: #00af00\">100</span>, <span style=\"color: #00af00; text-decoration-color: #00af00\">64</span>)        │        <span style=\"color: #00af00; text-decoration-color: #00af00\">19,200</span> │\n",
              "│ (<span style=\"color: #0087ff; text-decoration-color: #0087ff\">TimeDistributed</span>)               │                        │               │\n",
              "├─────────────────────────────────┼────────────────────────┼───────────────┤\n",
              "│ dense (<span style=\"color: #0087ff; text-decoration-color: #0087ff\">Dense</span>)                   │ (<span style=\"color: #00d7ff; text-decoration-color: #00d7ff\">None</span>, <span style=\"color: #00af00; text-decoration-color: #00af00\">100</span>, <span style=\"color: #00af00; text-decoration-color: #00af00\">10</span>)        │           <span style=\"color: #00af00; text-decoration-color: #00af00\">650</span> │\n",
              "├─────────────────────────────────┼────────────────────────┼───────────────┤\n",
              "│ permute_1 (<span style=\"color: #0087ff; text-decoration-color: #0087ff\">Permute</span>)             │ (<span style=\"color: #00d7ff; text-decoration-color: #00d7ff\">None</span>, <span style=\"color: #00af00; text-decoration-color: #00af00\">10</span>, <span style=\"color: #00af00; text-decoration-color: #00af00\">100</span>)        │             <span style=\"color: #00af00; text-decoration-color: #00af00\">0</span> │\n",
              "└─────────────────────────────────┴────────────────────────┴───────────────┘\n",
              "</pre>\n"
            ],
            "text/plain": [
              "┏━━━━━━━━━━━━━━━━━━━━━━━━━━━━━━━━━┳━━━━━━━━━━━━━━━━━━━━━━━━┳━━━━━━━━━━━━━━━┓\n",
              "┃\u001b[1m \u001b[0m\u001b[1mLayer (type)                   \u001b[0m\u001b[1m \u001b[0m┃\u001b[1m \u001b[0m\u001b[1mOutput Shape          \u001b[0m\u001b[1m \u001b[0m┃\u001b[1m \u001b[0m\u001b[1m      Param #\u001b[0m\u001b[1m \u001b[0m┃\n",
              "┡━━━━━━━━━━━━━━━━━━━━━━━━━━━━━━━━━╇━━━━━━━━━━━━━━━━━━━━━━━━╇━━━━━━━━━━━━━━━┩\n",
              "│ input_layer (\u001b[38;5;33mInputLayer\u001b[0m)        │ (\u001b[38;5;45mNone\u001b[0m, \u001b[38;5;34m60\u001b[0m, \u001b[38;5;34m60\u001b[0m, \u001b[38;5;34m100\u001b[0m)    │             \u001b[38;5;34m0\u001b[0m │\n",
              "├─────────────────────────────────┼────────────────────────┼───────────────┤\n",
              "│ custom_autocorrelation_layer    │ (\u001b[38;5;45mNone\u001b[0m, \u001b[38;5;45mNone\u001b[0m, \u001b[38;5;45mNone\u001b[0m,     │             \u001b[38;5;34m0\u001b[0m │\n",
              "│ (\u001b[38;5;33mCustomAutocorrelationLayer\u001b[0m)    │ \u001b[38;5;34m100\u001b[0m)                   │               │\n",
              "├─────────────────────────────────┼────────────────────────┼───────────────┤\n",
              "│ permute (\u001b[38;5;33mPermute\u001b[0m)               │ (\u001b[38;5;45mNone\u001b[0m, \u001b[38;5;34m100\u001b[0m, \u001b[38;5;45mNone\u001b[0m,      │             \u001b[38;5;34m0\u001b[0m │\n",
              "│                                 │ \u001b[38;5;45mNone\u001b[0m)                  │               │\n",
              "├─────────────────────────────────┼────────────────────────┼───────────────┤\n",
              "│ reshape (\u001b[38;5;33mReshape\u001b[0m)               │ (\u001b[38;5;45mNone\u001b[0m, \u001b[38;5;34m100\u001b[0m, \u001b[38;5;34m60\u001b[0m, \u001b[38;5;34m60\u001b[0m, \u001b[38;5;34m1\u001b[0m) │             \u001b[38;5;34m0\u001b[0m │\n",
              "├─────────────────────────────────┼────────────────────────┼───────────────┤\n",
              "│ time_distributed                │ (\u001b[38;5;45mNone\u001b[0m, \u001b[38;5;34m100\u001b[0m, \u001b[38;5;34m64\u001b[0m)        │        \u001b[38;5;34m19,200\u001b[0m │\n",
              "│ (\u001b[38;5;33mTimeDistributed\u001b[0m)               │                        │               │\n",
              "├─────────────────────────────────┼────────────────────────┼───────────────┤\n",
              "│ dense (\u001b[38;5;33mDense\u001b[0m)                   │ (\u001b[38;5;45mNone\u001b[0m, \u001b[38;5;34m100\u001b[0m, \u001b[38;5;34m10\u001b[0m)        │           \u001b[38;5;34m650\u001b[0m │\n",
              "├─────────────────────────────────┼────────────────────────┼───────────────┤\n",
              "│ permute_1 (\u001b[38;5;33mPermute\u001b[0m)             │ (\u001b[38;5;45mNone\u001b[0m, \u001b[38;5;34m10\u001b[0m, \u001b[38;5;34m100\u001b[0m)        │             \u001b[38;5;34m0\u001b[0m │\n",
              "└─────────────────────────────────┴────────────────────────┴───────────────┘\n"
            ]
          },
          "metadata": {},
          "output_type": "display_data"
        },
        {
          "data": {
            "text/html": [
              "<pre style=\"white-space:pre;overflow-x:auto;line-height:normal;font-family:Menlo,'DejaVu Sans Mono',consolas,'Courier New',monospace\"><span style=\"font-weight: bold\"> Total params: </span><span style=\"color: #00af00; text-decoration-color: #00af00\">19,850</span> (77.54 KB)\n",
              "</pre>\n"
            ],
            "text/plain": [
              "\u001b[1m Total params: \u001b[0m\u001b[38;5;34m19,850\u001b[0m (77.54 KB)\n"
            ]
          },
          "metadata": {},
          "output_type": "display_data"
        },
        {
          "data": {
            "text/html": [
              "<pre style=\"white-space:pre;overflow-x:auto;line-height:normal;font-family:Menlo,'DejaVu Sans Mono',consolas,'Courier New',monospace\"><span style=\"font-weight: bold\"> Trainable params: </span><span style=\"color: #00af00; text-decoration-color: #00af00\">19,658</span> (76.79 KB)\n",
              "</pre>\n"
            ],
            "text/plain": [
              "\u001b[1m Trainable params: \u001b[0m\u001b[38;5;34m19,658\u001b[0m (76.79 KB)\n"
            ]
          },
          "metadata": {},
          "output_type": "display_data"
        },
        {
          "data": {
            "text/html": [
              "<pre style=\"white-space:pre;overflow-x:auto;line-height:normal;font-family:Menlo,'DejaVu Sans Mono',consolas,'Courier New',monospace\"><span style=\"font-weight: bold\"> Non-trainable params: </span><span style=\"color: #00af00; text-decoration-color: #00af00\">192</span> (768.00 B)\n",
              "</pre>\n"
            ],
            "text/plain": [
              "\u001b[1m Non-trainable params: \u001b[0m\u001b[38;5;34m192\u001b[0m (768.00 B)\n"
            ]
          },
          "metadata": {},
          "output_type": "display_data"
        },
        {
          "output_type": "stream",
          "name": "stdout",
          "text": [
            "\n",
            "--- Running a test prediction ---\n",
            "\u001b[1m1/1\u001b[0m \u001b[32m━━━━━━━━━━━━━━━━━━━━\u001b[0m\u001b[37m\u001b[0m \u001b[1m13s\u001b[0m 13s/step\n",
            "Input data shape: (2, 60, 60, 100)\n",
            "Final output shape: (2, 10, 100)\n"
          ]
        }
      ]
    },
    {
      "cell_type": "code",
      "source": [
        "import os\n",
        "import numpy as np\n",
        "import tensorflow as tf\n",
        "from tensorflow.keras.layers import Layer, Input, Permute, Reshape, Conv2D, BatchNormalization, ReLU, MaxPooling2D, GlobalAveragePooling2D, TimeDistributed, Dense\n",
        "from tensorflow.keras.models import Model\n",
        "import obspy\n",
        "from obspy import UTCDateTime, read, Stream, Trace\n",
        "\n"
      ],
      "metadata": {
        "id": "1rTbzll5itRB"
      },
      "execution_count": 1,
      "outputs": []
    },
    {
      "cell_type": "code",
      "source": [
        "# ==============================================================================\n",
        "#  1. DEFINE YOUR KERAS MODEL (with the 'name' modification)\n",
        "# ==============================================================================\n",
        "\n",
        "class CustomAutocorrelationLayer(Layer):\n",
        "    \"\"\"\n",
        "    Custom layer to calculate temporal auto-correlation using FFT.\n",
        "    \"\"\"\n",
        "    def __init__(self, **kwargs):\n",
        "        super(CustomAutocorrelationLayer, self).__init__(**kwargs)\n",
        "\n",
        "    def call(self, inputs):\n",
        "        sequence_length = tf.shape(inputs)[-1]\n",
        "        fft_result = tf.signal.rfft(inputs, fft_length=[sequence_length])\n",
        "        power_spectral_density = fft_result * tf.math.conj(fft_result)\n",
        "        autocorr_result = tf.signal.irfft(power_spectral_density, fft_length=[sequence_length])\n",
        "        return autocorr_result\n",
        "\n",
        "def build_spatio_temporal_model(input_shape=(60, 60, 100)):\n",
        "    \"\"\"\n",
        "    Builds the complete Spatio-Temporal feature extraction model.\n",
        "    \"\"\"\n",
        "    inputs = Input(shape=input_shape)\n",
        "\n",
        "    # --- The ONLY required change is adding a NAME to your custom layer ---\n",
        "    temporal_features = CustomAutocorrelationLayer(name='autocorr_layer')(inputs)\n",
        "\n",
        "    permuted = Permute((3, 1, 2))(temporal_features)\n",
        "    reshaped = Reshape((100, 60, 60, 1))(permuted)\n",
        "\n",
        "    cnn_block = tf.keras.Sequential([\n",
        "        Conv2D(32, kernel_size=(3, 3), padding='same'),\n",
        "        BatchNormalization(), ReLU(), MaxPooling2D(pool_size=(2, 2)),\n",
        "        Conv2D(64, kernel_size=(3, 3), padding='same'),\n",
        "        BatchNormalization(), ReLU(), MaxPooling2D(pool_size=(2, 2)),\n",
        "        GlobalAveragePooling2D()\n",
        "    ], name='internal_cnn_block')\n",
        "\n",
        "    time_distributed_cnn = TimeDistributed(cnn_block)(reshaped)\n",
        "    dense_features = Dense(10, activation='relu')(time_distributed_cnn)\n",
        "    final_output = Permute((2, 1))(dense_features)\n",
        "\n",
        "    model = Model(inputs=inputs, outputs=final_output, name='SpatioTemporal_Feature_Extractor')\n",
        "    return model"
      ],
      "metadata": {
        "id": "jaVYc3hiiiqZ"
      },
      "execution_count": 2,
      "outputs": []
    },
    {
      "cell_type": "code",
      "source": [
        "# ==============================================================================\n",
        "#  2. SET PARAMETERS AND LOAD SEISMIC DATA\n",
        "# ==============================================================================\n",
        "\n",
        "# !!! IMPORTANT: Change these paths to match your file locations !!!\n",
        "MSEED_FILE_PATH = \"/content/drive/MyDrive/Signal/2013-01-01-00-00-00.mseed\"\n",
        "XML_FILE_PATH = \"/content/drive/MyDrive/Signal/GH.AKOS.xml\"\n",
        "\n",
        "# --- Parameters ---\n",
        "STATION_NAME = 'AKOS'\n",
        "NUM_DAYS_TO_PROCESS = 30\n",
        "MODEL_INPUT_SHAPE = (60, 60, 100) # (Height, Width, TimeSteps)\n",
        "\n",
        "# --- Load data using ObsPy ---\n",
        "print(\"Loading seismic data...\")\n",
        "st = read(MSEED_FILE_PATH)\n",
        "inventory = obspy.read_inventory(XML_FILE_PATH)\n",
        "start_time = UTCDateTime(2013, 1, 1)"
      ],
      "metadata": {
        "colab": {
          "base_uri": "https://localhost:8080/"
        },
        "id": "bELzpL-Gik4T",
        "outputId": "1efcceba-f037-401b-90cb-b3ae7ebb3462"
      },
      "execution_count": 3,
      "outputs": [
        {
          "output_type": "stream",
          "name": "stdout",
          "text": [
            "Loading seismic data...\n"
          ]
        }
      ]
    },
    {
      "cell_type": "code",
      "source": [
        "# ==============================================================================\n",
        "#  3. PREPARE DATA FOR THE MODEL\n",
        "# ==============================================================================\n",
        "\n",
        "print(\"Preparing data for the model...\")\n",
        "daily_traces = []\n",
        "for day in range(NUM_DAYS_TO_PROCESS):\n",
        "    # Slice one day of data\n",
        "    st_day = st.select(station=STATION_NAME).slice(\n",
        "        starttime=start_time + day * 86400,\n",
        "        endtime=start_time + (day + 1) * 86400\n",
        "    )\n",
        "    if not st_day:\n",
        "        continue\n",
        "\n",
        "    # Detrend and filter the data\n",
        "    st_day.detrend('linear')\n",
        "    st_day.filter('bandpass', freqmin=0.1, freqmax=1.0)\n",
        "\n",
        "    # Ensure the trace exists before accessing it\n",
        "    if len(st_day) > 0:\n",
        "        trace = st_day[0]\n",
        "        # Calculate the end time based on the start time, number of desired points, and sampling rate\n",
        "        end_time = trace.stats.starttime + (MODEL_INPUT_SHAPE[2] - 1) * trace.stats.delta\n",
        "        # Use slice to get a segment with the desired number of points\n",
        "        trace_sliced = trace.slice(trace.stats.starttime, end_time)\n",
        "\n",
        "        # Check if the sliced trace has the correct number of points\n",
        "        if len(trace_sliced.data) == MODEL_INPUT_SHAPE[2]:\n",
        "             daily_traces.append(trace_sliced.data)\n",
        "        else:\n",
        "             print(f\"Warning: Sliced trace for day {day} does not have {MODEL_INPUT_SHAPE[2]} points. Skipping.\")\n",
        "    else:\n",
        "        print(f\"Warning: No trace found for day {day}. Skipping.\")\n",
        "\n",
        "\n",
        "# Convert the list of 1D traces into a single NumPy array\n",
        "# Shape will be (num_days, 100)\n",
        "# Add a check in case daily_traces is empty\n",
        "if daily_traces:\n",
        "    seismic_data_1d = np.array(daily_traces)\n",
        "\n",
        "    # Create an empty 4D array with the shape the model expects\n",
        "    # Shape: (num_days, 60, 60, 100)\n",
        "    model_input_4d = np.zeros((\n",
        "        seismic_data_1d.shape[0],\n",
        "        MODEL_INPUT_SHAPE[0],\n",
        "        MODEL_INPUT_SHAPE[1],\n",
        "        MODEL_INPUT_SHAPE[2]\n",
        "    ))\n",
        "\n",
        "    # Place each 1D seismic trace into the center of the 60x60 spatial grid\n",
        "    center_pixel_h, center_pixel_w = 30, 30\n",
        "    model_input_4d[:, center_pixel_h, center_pixel_w, :] = seismic_data_1d\n",
        "\n",
        "    print(f\"Final model input data shape: {model_input_4d.shape}\")\n",
        "else:\n",
        "    print(\"No daily traces were processed successfully.\")\n",
        "    # Create an empty array to avoid errors in subsequent steps\n",
        "    model_input_4d = np.empty((0, MODEL_INPUT_SHAPE[0], MODEL_INPUT_SHAPE[1], MODEL_INPUT_SHAPE[2]))"
      ],
      "metadata": {
        "colab": {
          "base_uri": "https://localhost:8080/"
        },
        "id": "N21FewgPinfP",
        "outputId": "bad6bda1-e823-4a6c-f369-954e9cff8028"
      },
      "execution_count": 5,
      "outputs": [
        {
          "output_type": "stream",
          "name": "stdout",
          "text": [
            "Preparing data for the model...\n",
            "Warning: Sliced trace for day 10 does not have 100 points. Skipping.\n",
            "Warning: Sliced trace for day 20 does not have 100 points. Skipping.\n",
            "Final model input data shape: (28, 60, 60, 100)\n"
          ]
        }
      ]
    },
    {
      "cell_type": "code",
      "source": [
        "\n",
        "# ==============================================================================\n",
        "#  4. BUILD INTERMEDIATE MODEL AND GET PREDICTIONS\n",
        "# ==============================================================================\n",
        "\n",
        "print(\"Building Keras models...\")\n",
        "# Build the full model first\n",
        "full_model = build_spatio_temporal_model(input_shape=MODEL_INPUT_SHAPE)\n",
        "\n",
        "# Create the intermediate model to get the output of your custom layer\n",
        "intermediate_model = Model(inputs=full_model.input,\n",
        "                           outputs=full_model.get_layer('autocorr_layer').output)\n",
        "\n",
        "print(\"Running prediction to get autocorrelation results...\")\n",
        "# Use the intermediate model to predict\n",
        "autocorr_results_4d = intermediate_model.predict(model_input_4d)\n",
        "\n",
        "print(f\"Shape of the output from the autocorrelation layer: {autocorr_results_4d.shape}\")"
      ],
      "metadata": {
        "colab": {
          "base_uri": "https://localhost:8080/"
        },
        "id": "T24_CR3dipZG",
        "outputId": "9e74cb87-0d40-4289-dc7d-b9c7f5981f1e"
      },
      "execution_count": 6,
      "outputs": [
        {
          "output_type": "stream",
          "name": "stdout",
          "text": [
            "Building Keras models...\n",
            "Running prediction to get autocorrelation results...\n",
            "\u001b[1m1/1\u001b[0m \u001b[32m━━━━━━━━━━━━━━━━━━━━\u001b[0m\u001b[37m\u001b[0m \u001b[1m0s\u001b[0m 404ms/step\n",
            "Shape of the output from the autocorrelation layer: (28, 60, 60, 100)\n"
          ]
        }
      ]
    },
    {
      "cell_type": "code",
      "source": [
        "# ==============================================================================\n",
        "#  5. CONVERT RESULTS TO OBSPY FORMAT AND PLOT\n",
        "# ==============================================================================\n",
        "\n",
        "print(\"Converting results back to ObsPy format for plotting...\")\n",
        "# Extract the time series from the same center pixel where we placed the data\n",
        "# Shape will be (num_days, 100)\n",
        "autocorr_results_1d = autocorr_results_4d[:, center_pixel_h, center_pixel_w, :]\n",
        "\n",
        "# Create an ObsPy Stream object to hold the results\n",
        "autocorr_stream = Stream()\n",
        "for i, daily_result in enumerate(autocorr_results_1d):\n",
        "    # Create a Trace for each day's autocorrelation result\n",
        "    trace = Trace(data=daily_result)\n",
        "    trace.stats.sampling_rate = st[0].stats.sampling_rate # Use original sampling rate\n",
        "    # Add a dummy distance for section plotting (e.g., use the day number as distance)\n",
        "    trace.stats.distance = float(i) * 100 # Assign a dummy distance, e.g., increment by 100m each day\n",
        "    autocorr_stream.append(trace)\n",
        "\n",
        "print(\"Plotting the final section plot...\")\n",
        "# Use ObsPy's section plot to visualize the results\n",
        "autocorr_stream.plot(\n",
        "    type='section',\n",
        "    recordlength=MODEL_INPUT_SHAPE[2] / autocorr_stream[0].stats.sampling_rate, # Duration in seconds\n",
        "    fillcolors=('red', 'black'),\n",
        "    stack_results=True,\n",
        "    title=f\"{STATION_NAME} - Daily Autocorrelations from Keras Layer\"\n",
        ")"
      ],
      "metadata": {
        "colab": {
          "base_uri": "https://localhost:8080/",
          "height": 1000
        },
        "id": "n5i933E7irTP",
        "outputId": "c005df96-ff2d-4160-8d5b-16a8548721ac"
      },
      "execution_count": 8,
      "outputs": [
        {
          "output_type": "stream",
          "name": "stdout",
          "text": [
            "Converting results back to ObsPy format for plotting...\n",
            "Plotting the final section plot...\n"
          ]
        },
        {
          "output_type": "display_data",
          "data": {
            "text/plain": [
              "<Figure size 1000x600 with 1 Axes>"
            ],
            "image/png": "[encoded data removed]"
          },
          "metadata": {}
        },
        {
          "output_type": "execute_result",
          "data": {
            "text/plain": [
              "<Figure size 1000x600 with 1 Axes>"
            ],
            "image/png": "[encoded data removed]"
          },
          "metadata": {},
          "execution_count": 8
        }
      ]
    },
    {
      "cell_type": "code",
      "source": [
        "import os\n",
        "import numpy as np\n",
        "import tensorflow as tf\n",
        "from tensorflow.keras.layers import Layer, Input, Permute, Reshape, Conv2D, BatchNormalization, ReLU, MaxPooling2D, GlobalAveragePooling2D, TimeDistributed, Dense\n",
        "from tensorflow.keras.models import Model\n",
        "import obspy\n",
        "from obspy import UTCDateTime, read, Stream, Trace"
      ],
      "metadata": {
        "id": "F3yJ-ZSXmG2L"
      },
      "execution_count": 2,
      "outputs": []
    },
    {
      "cell_type": "code",
      "source": [
        "# ==============================================================================\n",
        "#  1. DEFINE YOUR KERAS MODEL\n",
        "# ==============================================================================\n",
        "# ... (Your model definition code) ...\n",
        "class CustomAutocorrelationLayer(Layer):\n",
        "    def __init__(self, **kwargs):\n",
        "        super(CustomAutocorrelationLayer, self).__init__(**kwargs)\n",
        "    def call(self, inputs):\n",
        "        sequence_length = tf.shape(inputs)[-1]\n",
        "        fft_result = tf.signal.rfft(inputs, fft_length=[sequence_length])\n",
        "        power_spectral_density = fft_result * tf.math.conj(fft_result)\n",
        "        autocorr_result = tf.signal.irfft(power_spectral_density, fft_length=[sequence_length])\n",
        "        return autocorr_result\n",
        "\n",
        "# --- FIX #2 (Part 1): Increase timesteps in the model definition ---\n",
        "# We change 100 to a larger number, for example, 1000.\n",
        "def build_spatio_temporal_model(input_shape=(60, 60, 1000)):\n",
        "    inputs = Input(shape=input_shape)\n",
        "    temporal_features = CustomAutocorrelationLayer(name='autocorr_layer')(inputs)\n",
        "    # The rest of the model needs to be adjusted for the new length if you use the full model\n",
        "    # But for the intermediate model, this is enough.\n",
        "    # For simplicity, I'm keeping the rest of the architecture the same.\n",
        "    # You might need to adjust it based on your final goal.\n",
        "    permuted = Permute((3, 1, 2))(temporal_features)\n",
        "    reshaped = Reshape((1000, 60, 60, 1))(permuted) # Also change 100 to 1000 here\n",
        "    cnn_block = tf.keras.Sequential([\n",
        "        Conv2D(32, kernel_size=(3, 3), padding='same'),\n",
        "        BatchNormalization(), ReLU(), MaxPooling2D(pool_size=(2, 2)),\n",
        "        Conv2D(64, kernel_size=(3, 3), padding='same'),\n",
        "        BatchNormalization(), ReLU(), MaxPooling2D(pool_size=(2, 2)),\n",
        "        GlobalAveragePooling2D()\n",
        "    ], name='internal_cnn_block')\n",
        "    time_distributed_cnn = TimeDistributed(cnn_block)(reshaped)\n",
        "    dense_features = Dense(10, activation='relu')(time_distributed_cnn)\n",
        "    final_output = Permute((2, 1))(dense_features)\n",
        "    model = Model(inputs=inputs, outputs=final_output, name='SpatioTemporal_Feature_Extractor')\n",
        "    return model"
      ],
      "metadata": {
        "id": "lnv8Pgy8mElJ"
      },
      "execution_count": 3,
      "outputs": []
    },
    {
      "cell_type": "code",
      "source": [
        "# ==============================================================================\n",
        "#  2. SET PARAMETERS AND LOAD SEISMIC DATA\n",
        "# ==============================================================================\n",
        "MSEED_FILE_PATH = \"/content/drive/MyDrive/Signal/2013-01-01-00-00-00.mseed\"\n",
        "XML_FOLDER_PATH = \"/content/drive/MyDrive/Signal/\"\n",
        "\n",
        "STATION_NAME = 'AKOS'\n",
        "NUM_DAYS_TO_PROCESS = 30\n",
        "# --- FIX #2 (Part 2): Update the model input shape parameter ---\n",
        "MODEL_INPUT_SHAPE = (60, 60, 1000) # Using 1000 timesteps instead of 100\n",
        "\n",
        "print(\"Loading seismic data...\")\n",
        "st = read(MSEED_FILE_PATH)\n",
        "print(\"Loading all station XML files...\")\n",
        "inventory = obspy.read_inventory(os.path.join(XML_FOLDER_PATH, \"GH.*.xml\"))\n",
        "start_time = UTCDateTime(2013, 1, 1)"
      ],
      "metadata": {
        "colab": {
          "base_uri": "https://localhost:8080/"
        },
        "id": "bRN23jMEmJ4t",
        "outputId": "9708a132-032a-4616-a175-a7d78925e33d"
      },
      "execution_count": 4,
      "outputs": [
        {
          "output_type": "stream",
          "name": "stdout",
          "text": [
            "Loading seismic data...\n",
            "Loading all station XML files...\n"
          ]
        }
      ]
    },
    {
      "cell_type": "code",
      "source": [
        "# ==============================================================================\n",
        "#  3. PREPARE DATA FOR THE MODEL\n",
        "# ==============================================================================\n",
        "print(\"Preparing data for the model...\")\n",
        "daily_traces_data = []\n",
        "daily_start_times = [] # --- FIX #1 (Part 1): A list to store start times ---\n",
        "\n",
        "for day in range(NUM_DAYS_TO_PROCESS):\n",
        "    day_start = start_time + day * 86400\n",
        "    st_day = st.select(station=STATION_NAME).slice(\n",
        "        starttime=day_start,\n",
        "        endtime=day_start + 86400\n",
        "    )\n",
        "    if not st_day:\n",
        "        continue\n",
        "\n",
        "    # Ensure the trace exists before processing\n",
        "    if len(st_day) > 0:\n",
        "        trace = st_day[0]\n",
        "\n",
        "        # Detrend and filter the data\n",
        "        trace.detrend('linear')\n",
        "        trace.filter('bandpass', freqmin=0.1, freqmax=1.0)\n",
        "\n",
        "        # --- FIX #2 (Part 3): Use slice to get the new, longer length ---\n",
        "        # Calculate the end time based on the start time, number of desired points, and sampling rate\n",
        "        end_time = trace.stats.starttime + (MODEL_INPUT_SHAPE[2] - 1) * trace.stats.delta\n",
        "        # Use slice to get a segment with the desired number of points\n",
        "        trace_sliced = trace.slice(trace.stats.starttime, end_time)\n",
        "\n",
        "        # Check if the sliced trace has the correct number of points\n",
        "        if len(trace_sliced.data) == MODEL_INPUT_SHAPE[2]:\n",
        "             daily_traces_data.append(trace_sliced.data)\n",
        "             # --- FIX #1 (Part 2): Save the start time for this day ---\n",
        "             daily_start_times.append(day_start)\n",
        "        else:\n",
        "             print(f\"Warning: Sliced trace for day {day} does not have {MODEL_INPUT_SHAPE[2]} points. Skipping.\")\n",
        "    else:\n",
        "        print(f\"Warning: No trace found for day {day}. Skipping.\")\n",
        "\n",
        "\n",
        "# Add a check in case daily_traces_data is empty\n",
        "if daily_traces_data:\n",
        "    seismic_data_1d = np.array(daily_traces_data)\n",
        "\n",
        "    # Create an empty 4D array with the shape the model expects\n",
        "    # Shape: (num_days, 60, 60, 1000) based on MODEL_INPUT_SHAPE\n",
        "    model_input_4d = np.zeros((\n",
        "        seismic_data_1d.shape[0],\n",
        "        MODEL_INPUT_SHAPE[0],\n",
        "        MODEL_INPUT_SHAPE[1],\n",
        "        MODEL_INPUT_SHAPE[2]\n",
        "    ))\n",
        "\n",
        "    # Place each 1D seismic trace into the center of the 60x60 spatial grid\n",
        "    center_pixel_h, center_pixel_w = 30, 30\n",
        "    model_input_4d[:, center_pixel_h, center_pixel_w, :] = seismic_data_1d\n",
        "\n",
        "    print(f\"Final model input data shape: {model_input_4d.shape}\")\n",
        "else:\n",
        "    print(\"No daily traces were processed successfully.\")\n",
        "    # Create an empty array to avoid errors in subsequent steps\n",
        "    model_input_4d = np.empty((0, MODEL_INPUT_SHAPE[0], MODEL_INPUT_SHAPE[1], MODEL_INPUT_SHAPE[2]))\n",
        "    # Ensure daily_start_times is also empty if no data was processed\n",
        "    daily_start_times = [] # Clear the list if no data"
      ],
      "metadata": {
        "colab": {
          "base_uri": "https://localhost:8080/"
        },
        "id": "7asmzwhzmMwk",
        "outputId": "247e048b-d5fa-4643-9d1a-08b3f5c3b262"
      },
      "execution_count": 6,
      "outputs": [
        {
          "output_type": "stream",
          "name": "stdout",
          "text": [
            "Preparing data for the model...\n",
            "Warning: Sliced trace for day 10 does not have 1000 points. Skipping.\n",
            "Warning: Sliced trace for day 20 does not have 1000 points. Skipping.\n",
            "Final model input data shape: (28, 60, 60, 1000)\n"
          ]
        }
      ]
    },
    {
      "cell_type": "code",
      "source": [
        "# ==============================================================================\n",
        "#  4. BUILD INTERMEDIATE MODEL AND GET PREDICTIONS\n",
        "# ==============================================================================\n",
        "print(\"Building Keras models...\")\n",
        "full_model = build_spatio_temporal_model(input_shape=MODEL_INPUT_SHAPE)\n",
        "intermediate_model = Model(inputs=full_model.input,\n",
        "                           outputs=full_model.get_layer('autocorr_layer').output)\n",
        "\n",
        "print(\"Running prediction...\")\n",
        "autocorr_results_4d = intermediate_model.predict(model_input_4d)"
      ],
      "metadata": {
        "colab": {
          "base_uri": "https://localhost:8080/"
        },
        "id": "DJyPFsnZmT_2",
        "outputId": "62ddf653-fb3b-4d8f-de49-4ed4313fe1b0"
      },
      "execution_count": 7,
      "outputs": [
        {
          "output_type": "stream",
          "name": "stdout",
          "text": [
            "Building Keras models...\n",
            "Running prediction...\n",
            "\u001b[1m1/1\u001b[0m \u001b[32m━━━━━━━━━━━━━━━━━━━━\u001b[0m\u001b[37m\u001b[0m \u001b[1m2s\u001b[0m 2s/step\n"
          ]
        }
      ]
    },
    {
      "cell_type": "code",
      "source": [
        "import os\n",
        "import numpy as np\n",
        "import tensorflow as tf\n",
        "from tensorflow.keras.layers import Layer, Input, Permute, Reshape, Conv2D, BatchNormalization, ReLU, MaxPooling2D, GlobalAveragePooling2D, TimeDistributed, Dense\n",
        "from tensorflow.keras.models import Model\n",
        "import obspy\n",
        "from obspy import UTCDateTime, read, Stream, Trace\n",
        "\n",
        "# ==============================================================================\n",
        "#  1. KERAS MODEL DEFINITION\n",
        "# ==============================================================================\n",
        "# --- We will increase the model's input timesteps for more meaningful data ---\n",
        "NEW_TIMESTEPS = 3600 # Using 3600 samples, which will be 1 hour of data at 1 Hz\n",
        "\n",
        "class CustomAutocorrelationLayer(Layer):\n",
        "    # ... (code for the layer is unchanged) ...\n",
        "    def __init__(self, **kwargs):\n",
        "        super(CustomAutocorrelationLayer, self).__init__(**kwargs)\n",
        "    def call(self, inputs):\n",
        "        sequence_length = tf.shape(inputs)[-1]\n",
        "        fft_result = tf.signal.rfft(inputs, fft_length=[sequence_length])\n",
        "        power_spectral_density = fft_result * tf.math.conj(fft_result)\n",
        "        autocorr_result = tf.signal.irfft(power_spectral_density, fft_length=[sequence_length])\n",
        "        return autocorr_result\n",
        "\n",
        "def build_spatio_temporal_model(input_shape=(60, 60, NEW_TIMESTEPS)):\n",
        "    # ... (code for the model is mostly unchanged, just update the length) ...\n",
        "    inputs = Input(shape=input_shape)\n",
        "    temporal_features = CustomAutocorrelationLayer(name='autocorr_layer')(inputs)\n",
        "    permuted = Permute((3, 1, 2))(temporal_features)\n",
        "    reshaped = Reshape((NEW_TIMESTEPS, 60, 60, 1))(permuted)\n",
        "    cnn_block = tf.keras.Sequential([\n",
        "        Conv2D(32, kernel_size=(3, 3), padding='same'),\n",
        "        BatchNormalization(), ReLU(), MaxPooling2D(pool_size=(2, 2)),\n",
        "        Conv2D(64, kernel_size=(3, 3), padding='same'),\n",
        "        BatchNormalization(), ReLU(), MaxPooling2D(pool_size=(2, 2)),\n",
        "        GlobalAveragePooling2D()\n",
        "    ], name='internal_cnn_block')\n",
        "    time_distributed_cnn = TimeDistributed(cnn_block)(reshaped)\n",
        "    dense_features = Dense(10, activation='relu')(time_distributed_cnn)\n",
        "    final_output = Permute((2, 1))(dense_features)\n",
        "    model = Model(inputs=inputs, outputs=final_output, name='SpatioTemporal_Feature_Extractor')\n",
        "    return model\n",
        "\n",
        "# ==============================================================================\n",
        "#  2. PARAMETERS AND DATA LOADING\n",
        "# ==============================================================================\n",
        "MSEED_FILE_PATH = \"/content/drive/MyDrive/Signal/2013-01-01-00-00-00.mseed\"\n",
        "XML_FILE_PATH = \"/content/drive/MyDrive/Signal/GH.AKOS.xml\"\n",
        "\n",
        "STATION_NAME = 'AKOS'\n",
        "NUM_DAYS_TO_PROCESS = 30\n",
        "MODEL_INPUT_SHAPE = (60, 60, NEW_TIMESTEPS)\n",
        "\n",
        "print(\"Loading data...\")\n",
        "st = read(MSEED_FILE_PATH)\n",
        "inventory = obspy.read_inventory(os.path.join(XML_FOLDER_PATH, \"GH.*.xml\"))\n",
        "start_time = UTCDateTime(2013, 1, 1)\n",
        "\n",
        "# ==============================================================================\n",
        "#  3. DATA PREPARATION\n",
        "# ==============================================================================\n",
        "print(\"Preparing data for the model...\")\n",
        "daily_traces_data = []\n",
        "\n",
        "for day in range(NUM_DAYS_TO_PROCESS):\n",
        "    st_day = st.select(station=STATION_NAME).slice(\n",
        "        starttime=start_time + day * 86400,\n",
        "        endtime=start_time + (day + 1) * 86400\n",
        "    )\n",
        "    if not st_day: continue\n",
        "\n",
        "    # --- IMPROVEMENT: Downsample data to 1 Hz ---\n",
        "    # This is a standard and crucial step in ambient noise analysis.\n",
        "    st_day.decimate(factor=100, no_filter=True) # From 100 Hz to 1 Hz\n",
        "\n",
        "    st_day.detrend('linear')\n",
        "    st_day.filter('bandpass', freqmin=0.1, freqmax=0.4, zerophase=True) # Adjusted filter for lower frequencies\n",
        "\n",
        "    trace = st_day[0]\n",
        "    # Trim to the required number of samples (now 3600 samples = 3600 seconds = 1 hour)\n",
        "    trace.trim(trace.stats.starttime, npts=MODEL_INPUT_SHAPE[2])\n",
        "\n",
        "    daily_traces_data.append(trace.data)\n",
        "\n",
        "seismic_data_1d = np.array(daily_traces_data)\n",
        "model_input_4d = np.zeros((seismic_data_1d.shape[0], *MODEL_INPUT_SHAPE))\n",
        "center_pixel_h, center_pixel_w = 30, 30\n",
        "model_input_4d[:, center_pixel_h, center_pixel_w, :] = seismic_data_1d\n",
        "\n",
        "# ==============================================================================\n",
        "#  4. BUILD MODEL AND PREDICT\n",
        "# ==============================================================================\n",
        "print(\"Building Keras models and predicting...\")\n",
        "full_model = build_spatio_temporal_model(input_shape=MODEL_INPUT_SHAPE)\n",
        "intermediate_model = Model(inputs=full_model.input, outputs=full_model.get_layer('autocorr_layer').output)\n",
        "autocorr_results_4d = intermediate_model.predict(model_input_4d)\n",
        "\n",
        "# ==============================================================================\n",
        "#  5. CONVERT AND PLOT\n",
        "# ==============================================================================\n",
        "print(\"Converting and plotting results...\")\n",
        "autocorr_results_1d = autocorr_results_4d[:, center_pixel_h, center_pixel_w, :]\n",
        "autocorr_stream = Stream()\n",
        "\n",
        "# --- FINAL FIX: Set sequential start times for plotting order ---\n",
        "for i, daily_result in enumerate(autocorr_results_1d):\n",
        "    trace = Trace(data=daily_result)\n",
        "    trace.stats.sampling_rate = 1 # New sampling rate is 1 Hz\n",
        "    # Give each trace a unique but small start time (0, 1, 2, ... seconds)\n",
        "    # This tells the plot function the correct order for the x-axis.\n",
        "    trace.stats.starttime = UTCDateTime(i)\n",
        "    autocorr_stream.append(trace)\n",
        "\n",
        "autocorr_stream.plot(\n",
        "    type='section',\n",
        "    recordlength=60,  # Display 60 seconds of lag time\n",
        "    fillcolors=('red', 'black'),\n",
        "    stack_results=True,\n",
        "    title=f\"{STATION_NAME} - Daily Autocorrelations\"\n",
        ")"
      ],
      "metadata": {
        "colab": {
          "base_uri": "https://localhost:8080/"
        },
        "id": "0IykVru-kkAj",
        "outputId": "6f70bd09-a65d-4168-8f10-61f82fea5fb0"
      },
      "execution_count": null,
      "outputs": [
        {
          "output_type": "stream",
          "name": "stdout",
          "text": [
            "Loading data...\n"
          ]
        }
      ]
    },
    {
      "cell_type": "code",
      "source": [],
      "metadata": {
        "id": "sYcebQYynz8t"
      },
      "execution_count": null,
      "outputs": []
    }
  ]
}